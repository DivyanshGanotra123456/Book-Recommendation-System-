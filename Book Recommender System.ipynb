{
 "cells": [
  {
   "cell_type": "markdown",
   "id": "60a86543",
   "metadata": {},
   "source": [
    "# Importing Libraries"
   ]
  },
  {
   "cell_type": "code",
   "execution_count": 68,
   "id": "481da9c8",
   "metadata": {},
   "outputs": [],
   "source": [
    "#Basic Libraries\n",
    "import numpy as np\n",
    "import pandas as pd\n",
    "\n",
    "#Visualisation\n",
    "import matplotlib.pyplot as plt\n",
    "import seaborn as sns\n",
    "import missingno as msno\n",
    "\n",
    "import warnings\n",
    "warnings.filterwarnings(\"ignore\")"
   ]
  },
  {
   "cell_type": "markdown",
   "id": "56450549",
   "metadata": {},
   "source": [
    "# Loading Datasets"
   ]
  },
  {
   "cell_type": "markdown",
   "id": "902b5edd",
   "metadata": {},
   "source": [
    "### Books dataset"
   ]
  },
  {
   "cell_type": "code",
   "execution_count": 69,
   "id": "ac889919",
   "metadata": {},
   "outputs": [
    {
     "name": "stderr",
     "output_type": "stream",
     "text": [
      "Skipping line 6452: expected 8 fields, saw 9\n",
      "Skipping line 43667: expected 8 fields, saw 10\n",
      "Skipping line 51751: expected 8 fields, saw 9\n",
      "\n",
      "Skipping line 92038: expected 8 fields, saw 9\n",
      "Skipping line 104319: expected 8 fields, saw 9\n",
      "Skipping line 121768: expected 8 fields, saw 9\n",
      "\n"
     ]
    },
    {
     "name": "stderr",
     "output_type": "stream",
     "text": [
      "Skipping line 144058: expected 8 fields, saw 9\n",
      "Skipping line 150789: expected 8 fields, saw 9\n",
      "Skipping line 157128: expected 8 fields, saw 9\n",
      "Skipping line 180189: expected 8 fields, saw 9\n",
      "Skipping line 185738: expected 8 fields, saw 9\n",
      "\n",
      "Skipping line 209388: expected 8 fields, saw 9\n",
      "Skipping line 220626: expected 8 fields, saw 9\n",
      "Skipping line 227933: expected 8 fields, saw 11\n",
      "Skipping line 228957: expected 8 fields, saw 10\n",
      "Skipping line 245933: expected 8 fields, saw 9\n",
      "Skipping line 251296: expected 8 fields, saw 9\n",
      "Skipping line 259941: expected 8 fields, saw 9\n",
      "Skipping line 261529: expected 8 fields, saw 9\n",
      "\n"
     ]
    }
   ],
   "source": [
    "books = pd.read_csv(\"books.csv\",encoding=\"latin-1\", error_bad_lines=False, sep=\";\")"
   ]
  },
  {
   "cell_type": "code",
   "execution_count": 70,
   "id": "1bfaf90d",
   "metadata": {},
   "outputs": [
    {
     "data": {
      "text/html": [
       "<div>\n",
       "<style scoped>\n",
       "    .dataframe tbody tr th:only-of-type {\n",
       "        vertical-align: middle;\n",
       "    }\n",
       "\n",
       "    .dataframe tbody tr th {\n",
       "        vertical-align: top;\n",
       "    }\n",
       "\n",
       "    .dataframe thead th {\n",
       "        text-align: right;\n",
       "    }\n",
       "</style>\n",
       "<table border=\"1\" class=\"dataframe\">\n",
       "  <thead>\n",
       "    <tr style=\"text-align: right;\">\n",
       "      <th></th>\n",
       "      <th>ISBN</th>\n",
       "      <th>Book-Title</th>\n",
       "      <th>Book-Author</th>\n",
       "      <th>Year-Of-Publication</th>\n",
       "      <th>Publisher</th>\n",
       "      <th>Image-URL-S</th>\n",
       "      <th>Image-URL-M</th>\n",
       "      <th>Image-URL-L</th>\n",
       "    </tr>\n",
       "  </thead>\n",
       "  <tbody>\n",
       "    <tr>\n",
       "      <th>0</th>\n",
       "      <td>0195153448</td>\n",
       "      <td>Classical Mythology</td>\n",
       "      <td>Mark P. O. Morford</td>\n",
       "      <td>2002</td>\n",
       "      <td>Oxford University Press</td>\n",
       "      <td>http://images.amazon.com/images/P/0195153448.0...</td>\n",
       "      <td>http://images.amazon.com/images/P/0195153448.0...</td>\n",
       "      <td>http://images.amazon.com/images/P/0195153448.0...</td>\n",
       "    </tr>\n",
       "    <tr>\n",
       "      <th>1</th>\n",
       "      <td>0002005018</td>\n",
       "      <td>Clara Callan</td>\n",
       "      <td>Richard Bruce Wright</td>\n",
       "      <td>2001</td>\n",
       "      <td>HarperFlamingo Canada</td>\n",
       "      <td>http://images.amazon.com/images/P/0002005018.0...</td>\n",
       "      <td>http://images.amazon.com/images/P/0002005018.0...</td>\n",
       "      <td>http://images.amazon.com/images/P/0002005018.0...</td>\n",
       "    </tr>\n",
       "    <tr>\n",
       "      <th>2</th>\n",
       "      <td>0060973129</td>\n",
       "      <td>Decision in Normandy</td>\n",
       "      <td>Carlo D'Este</td>\n",
       "      <td>1991</td>\n",
       "      <td>HarperPerennial</td>\n",
       "      <td>http://images.amazon.com/images/P/0060973129.0...</td>\n",
       "      <td>http://images.amazon.com/images/P/0060973129.0...</td>\n",
       "      <td>http://images.amazon.com/images/P/0060973129.0...</td>\n",
       "    </tr>\n",
       "    <tr>\n",
       "      <th>3</th>\n",
       "      <td>0374157065</td>\n",
       "      <td>Flu: The Story of the Great Influenza Pandemic...</td>\n",
       "      <td>Gina Bari Kolata</td>\n",
       "      <td>1999</td>\n",
       "      <td>Farrar Straus Giroux</td>\n",
       "      <td>http://images.amazon.com/images/P/0374157065.0...</td>\n",
       "      <td>http://images.amazon.com/images/P/0374157065.0...</td>\n",
       "      <td>http://images.amazon.com/images/P/0374157065.0...</td>\n",
       "    </tr>\n",
       "    <tr>\n",
       "      <th>4</th>\n",
       "      <td>0393045218</td>\n",
       "      <td>The Mummies of Urumchi</td>\n",
       "      <td>E. J. W. Barber</td>\n",
       "      <td>1999</td>\n",
       "      <td>W. W. Norton &amp;amp; Company</td>\n",
       "      <td>http://images.amazon.com/images/P/0393045218.0...</td>\n",
       "      <td>http://images.amazon.com/images/P/0393045218.0...</td>\n",
       "      <td>http://images.amazon.com/images/P/0393045218.0...</td>\n",
       "    </tr>\n",
       "  </tbody>\n",
       "</table>\n",
       "</div>"
      ],
      "text/plain": [
       "         ISBN                                         Book-Title  \\\n",
       "0  0195153448                                Classical Mythology   \n",
       "1  0002005018                                       Clara Callan   \n",
       "2  0060973129                               Decision in Normandy   \n",
       "3  0374157065  Flu: The Story of the Great Influenza Pandemic...   \n",
       "4  0393045218                             The Mummies of Urumchi   \n",
       "\n",
       "            Book-Author Year-Of-Publication                   Publisher  \\\n",
       "0    Mark P. O. Morford                2002     Oxford University Press   \n",
       "1  Richard Bruce Wright                2001       HarperFlamingo Canada   \n",
       "2          Carlo D'Este                1991             HarperPerennial   \n",
       "3      Gina Bari Kolata                1999        Farrar Straus Giroux   \n",
       "4       E. J. W. Barber                1999  W. W. Norton &amp; Company   \n",
       "\n",
       "                                         Image-URL-S  \\\n",
       "0  http://images.amazon.com/images/P/0195153448.0...   \n",
       "1  http://images.amazon.com/images/P/0002005018.0...   \n",
       "2  http://images.amazon.com/images/P/0060973129.0...   \n",
       "3  http://images.amazon.com/images/P/0374157065.0...   \n",
       "4  http://images.amazon.com/images/P/0393045218.0...   \n",
       "\n",
       "                                         Image-URL-M  \\\n",
       "0  http://images.amazon.com/images/P/0195153448.0...   \n",
       "1  http://images.amazon.com/images/P/0002005018.0...   \n",
       "2  http://images.amazon.com/images/P/0060973129.0...   \n",
       "3  http://images.amazon.com/images/P/0374157065.0...   \n",
       "4  http://images.amazon.com/images/P/0393045218.0...   \n",
       "\n",
       "                                         Image-URL-L  \n",
       "0  http://images.amazon.com/images/P/0195153448.0...  \n",
       "1  http://images.amazon.com/images/P/0002005018.0...  \n",
       "2  http://images.amazon.com/images/P/0060973129.0...  \n",
       "3  http://images.amazon.com/images/P/0374157065.0...  \n",
       "4  http://images.amazon.com/images/P/0393045218.0...  "
      ]
     },
     "execution_count": 70,
     "metadata": {},
     "output_type": "execute_result"
    }
   ],
   "source": [
    "books.head(5)"
   ]
  },
  {
   "cell_type": "code",
   "execution_count": 71,
   "id": "27fbc316",
   "metadata": {},
   "outputs": [
    {
     "data": {
      "text/html": [
       "<div>\n",
       "<style scoped>\n",
       "    .dataframe tbody tr th:only-of-type {\n",
       "        vertical-align: middle;\n",
       "    }\n",
       "\n",
       "    .dataframe tbody tr th {\n",
       "        vertical-align: top;\n",
       "    }\n",
       "\n",
       "    .dataframe thead th {\n",
       "        text-align: right;\n",
       "    }\n",
       "</style>\n",
       "<table border=\"1\" class=\"dataframe\">\n",
       "  <thead>\n",
       "    <tr style=\"text-align: right;\">\n",
       "      <th></th>\n",
       "      <th>ISBN</th>\n",
       "      <th>Book-Title</th>\n",
       "      <th>Book-Author</th>\n",
       "      <th>Year-Of-Publication</th>\n",
       "      <th>Publisher</th>\n",
       "      <th>Image-URL-S</th>\n",
       "      <th>Image-URL-M</th>\n",
       "      <th>Image-URL-L</th>\n",
       "    </tr>\n",
       "  </thead>\n",
       "  <tbody>\n",
       "    <tr>\n",
       "      <th>1855</th>\n",
       "      <td>0451200993</td>\n",
       "      <td>Sleeping Murder (Miss Marple Mysteries (Paperb...</td>\n",
       "      <td>Agatha Christie</td>\n",
       "      <td>2000</td>\n",
       "      <td>New American Library</td>\n",
       "      <td>http://images.amazon.com/images/P/0451200993.0...</td>\n",
       "      <td>http://images.amazon.com/images/P/0451200993.0...</td>\n",
       "      <td>http://images.amazon.com/images/P/0451200993.0...</td>\n",
       "    </tr>\n",
       "    <tr>\n",
       "      <th>2012</th>\n",
       "      <td>0671555235</td>\n",
       "      <td>A Caribbean Mystery</td>\n",
       "      <td>Agatha Christie</td>\n",
       "      <td>1984</td>\n",
       "      <td>Pocket</td>\n",
       "      <td>http://images.amazon.com/images/P/0671555235.0...</td>\n",
       "      <td>http://images.amazon.com/images/P/0671555235.0...</td>\n",
       "      <td>http://images.amazon.com/images/P/0671555235.0...</td>\n",
       "    </tr>\n",
       "    <tr>\n",
       "      <th>2355</th>\n",
       "      <td>0425173755</td>\n",
       "      <td>Murder on the Orient Express (Hercule Poirot M...</td>\n",
       "      <td>Agatha Christie</td>\n",
       "      <td>2000</td>\n",
       "      <td>Berkley Publishing Group</td>\n",
       "      <td>http://images.amazon.com/images/P/0425173755.0...</td>\n",
       "      <td>http://images.amazon.com/images/P/0425173755.0...</td>\n",
       "      <td>http://images.amazon.com/images/P/0425173755.0...</td>\n",
       "    </tr>\n",
       "    <tr>\n",
       "      <th>2356</th>\n",
       "      <td>0451199871</td>\n",
       "      <td>The Body in the Library (Miss Marple Mysteries...</td>\n",
       "      <td>Agatha Christie</td>\n",
       "      <td>2000</td>\n",
       "      <td>Signet Book</td>\n",
       "      <td>http://images.amazon.com/images/P/0451199871.0...</td>\n",
       "      <td>http://images.amazon.com/images/P/0451199871.0...</td>\n",
       "      <td>http://images.amazon.com/images/P/0451199871.0...</td>\n",
       "    </tr>\n",
       "    <tr>\n",
       "      <th>2569</th>\n",
       "      <td>067170463X</td>\n",
       "      <td>Murder on the Orient Express</td>\n",
       "      <td>Agatha Christie</td>\n",
       "      <td>1978</td>\n",
       "      <td>Pocket Books</td>\n",
       "      <td>http://images.amazon.com/images/P/067170463X.0...</td>\n",
       "      <td>http://images.amazon.com/images/P/067170463X.0...</td>\n",
       "      <td>http://images.amazon.com/images/P/067170463X.0...</td>\n",
       "    </tr>\n",
       "    <tr>\n",
       "      <th>...</th>\n",
       "      <td>...</td>\n",
       "      <td>...</td>\n",
       "      <td>...</td>\n",
       "      <td>...</td>\n",
       "      <td>...</td>\n",
       "      <td>...</td>\n",
       "      <td>...</td>\n",
       "      <td>...</td>\n",
       "    </tr>\n",
       "    <tr>\n",
       "      <th>270319</th>\n",
       "      <td>2702400787</td>\n",
       "      <td>Le couteau sur la nuque</td>\n",
       "      <td>Agatha Christie</td>\n",
       "      <td>1979</td>\n",
       "      <td>Librairie des Champs-ElysÃ?Â©es</td>\n",
       "      <td>http://images.amazon.com/images/P/2702400787.0...</td>\n",
       "      <td>http://images.amazon.com/images/P/2702400787.0...</td>\n",
       "      <td>http://images.amazon.com/images/P/2702400787.0...</td>\n",
       "    </tr>\n",
       "    <tr>\n",
       "      <th>270519</th>\n",
       "      <td>0671494538</td>\n",
       "      <td>ENDLESS NIGHT</td>\n",
       "      <td>Agatha Christie</td>\n",
       "      <td>1983</td>\n",
       "      <td>Pocket</td>\n",
       "      <td>http://images.amazon.com/images/P/0671494538.0...</td>\n",
       "      <td>http://images.amazon.com/images/P/0671494538.0...</td>\n",
       "      <td>http://images.amazon.com/images/P/0671494538.0...</td>\n",
       "    </tr>\n",
       "    <tr>\n",
       "      <th>271094</th>\n",
       "      <td>8427201079</td>\n",
       "      <td>El Misterio De Sittaford</td>\n",
       "      <td>Agatha Christie</td>\n",
       "      <td>0</td>\n",
       "      <td>Editorial Molino</td>\n",
       "      <td>http://images.amazon.com/images/P/8427201079.0...</td>\n",
       "      <td>http://images.amazon.com/images/P/8427201079.0...</td>\n",
       "      <td>http://images.amazon.com/images/P/8427201079.0...</td>\n",
       "    </tr>\n",
       "    <tr>\n",
       "      <th>271095</th>\n",
       "      <td>8427285280</td>\n",
       "      <td>Poirot en Egipto</td>\n",
       "      <td>Agatha Christie</td>\n",
       "      <td>1996</td>\n",
       "      <td>Downtown Book Center</td>\n",
       "      <td>http://images.amazon.com/images/P/8427285280.0...</td>\n",
       "      <td>http://images.amazon.com/images/P/8427285280.0...</td>\n",
       "      <td>http://images.amazon.com/images/P/8427285280.0...</td>\n",
       "    </tr>\n",
       "    <tr>\n",
       "      <th>271250</th>\n",
       "      <td>073943828X</td>\n",
       "      <td>Murder at the Manor (Mystery Guild Lost Classi...</td>\n",
       "      <td>Agatha Christie</td>\n",
       "      <td>1929</td>\n",
       "      <td>Dodd Mead &amp;amp; Company</td>\n",
       "      <td>http://images.amazon.com/images/P/073943828X.0...</td>\n",
       "      <td>http://images.amazon.com/images/P/073943828X.0...</td>\n",
       "      <td>http://images.amazon.com/images/P/073943828X.0...</td>\n",
       "    </tr>\n",
       "  </tbody>\n",
       "</table>\n",
       "<p>632 rows × 8 columns</p>\n",
       "</div>"
      ],
      "text/plain": [
       "              ISBN                                         Book-Title  \\\n",
       "1855    0451200993  Sleeping Murder (Miss Marple Mysteries (Paperb...   \n",
       "2012    0671555235                                A Caribbean Mystery   \n",
       "2355    0425173755  Murder on the Orient Express (Hercule Poirot M...   \n",
       "2356    0451199871  The Body in the Library (Miss Marple Mysteries...   \n",
       "2569    067170463X                       Murder on the Orient Express   \n",
       "...            ...                                                ...   \n",
       "270319  2702400787                            Le couteau sur la nuque   \n",
       "270519  0671494538                                      ENDLESS NIGHT   \n",
       "271094  8427201079                           El Misterio De Sittaford   \n",
       "271095  8427285280                                   Poirot en Egipto   \n",
       "271250  073943828X  Murder at the Manor (Mystery Guild Lost Classi...   \n",
       "\n",
       "            Book-Author Year-Of-Publication                        Publisher  \\\n",
       "1855    Agatha Christie                2000             New American Library   \n",
       "2012    Agatha Christie                1984                           Pocket   \n",
       "2355    Agatha Christie                2000         Berkley Publishing Group   \n",
       "2356    Agatha Christie                2000                      Signet Book   \n",
       "2569    Agatha Christie                1978                     Pocket Books   \n",
       "...                 ...                 ...                              ...   \n",
       "270319  Agatha Christie                1979  Librairie des Champs-ElysÃ?Â©es   \n",
       "270519  Agatha Christie                1983                           Pocket   \n",
       "271094  Agatha Christie                   0                 Editorial Molino   \n",
       "271095  Agatha Christie                1996             Downtown Book Center   \n",
       "271250  Agatha Christie                1929          Dodd Mead &amp; Company   \n",
       "\n",
       "                                              Image-URL-S  \\\n",
       "1855    http://images.amazon.com/images/P/0451200993.0...   \n",
       "2012    http://images.amazon.com/images/P/0671555235.0...   \n",
       "2355    http://images.amazon.com/images/P/0425173755.0...   \n",
       "2356    http://images.amazon.com/images/P/0451199871.0...   \n",
       "2569    http://images.amazon.com/images/P/067170463X.0...   \n",
       "...                                                   ...   \n",
       "270319  http://images.amazon.com/images/P/2702400787.0...   \n",
       "270519  http://images.amazon.com/images/P/0671494538.0...   \n",
       "271094  http://images.amazon.com/images/P/8427201079.0...   \n",
       "271095  http://images.amazon.com/images/P/8427285280.0...   \n",
       "271250  http://images.amazon.com/images/P/073943828X.0...   \n",
       "\n",
       "                                              Image-URL-M  \\\n",
       "1855    http://images.amazon.com/images/P/0451200993.0...   \n",
       "2012    http://images.amazon.com/images/P/0671555235.0...   \n",
       "2355    http://images.amazon.com/images/P/0425173755.0...   \n",
       "2356    http://images.amazon.com/images/P/0451199871.0...   \n",
       "2569    http://images.amazon.com/images/P/067170463X.0...   \n",
       "...                                                   ...   \n",
       "270319  http://images.amazon.com/images/P/2702400787.0...   \n",
       "270519  http://images.amazon.com/images/P/0671494538.0...   \n",
       "271094  http://images.amazon.com/images/P/8427201079.0...   \n",
       "271095  http://images.amazon.com/images/P/8427285280.0...   \n",
       "271250  http://images.amazon.com/images/P/073943828X.0...   \n",
       "\n",
       "                                              Image-URL-L  \n",
       "1855    http://images.amazon.com/images/P/0451200993.0...  \n",
       "2012    http://images.amazon.com/images/P/0671555235.0...  \n",
       "2355    http://images.amazon.com/images/P/0425173755.0...  \n",
       "2356    http://images.amazon.com/images/P/0451199871.0...  \n",
       "2569    http://images.amazon.com/images/P/067170463X.0...  \n",
       "...                                                   ...  \n",
       "270319  http://images.amazon.com/images/P/2702400787.0...  \n",
       "270519  http://images.amazon.com/images/P/0671494538.0...  \n",
       "271094  http://images.amazon.com/images/P/8427201079.0...  \n",
       "271095  http://images.amazon.com/images/P/8427285280.0...  \n",
       "271250  http://images.amazon.com/images/P/073943828X.0...  \n",
       "\n",
       "[632 rows x 8 columns]"
      ]
     },
     "execution_count": 71,
     "metadata": {},
     "output_type": "execute_result"
    }
   ],
   "source": [
    "books[books['Book-Author']=='Agatha Christie']"
   ]
  },
  {
   "cell_type": "code",
   "execution_count": 72,
   "id": "6a1801c9",
   "metadata": {},
   "outputs": [
    {
     "name": "stdout",
     "output_type": "stream",
     "text": [
      "<class 'pandas.core.frame.DataFrame'>\n",
      "RangeIndex: 271360 entries, 0 to 271359\n",
      "Data columns (total 8 columns):\n",
      " #   Column               Non-Null Count   Dtype \n",
      "---  ------               --------------   ----- \n",
      " 0   ISBN                 271360 non-null  object\n",
      " 1   Book-Title           271360 non-null  object\n",
      " 2   Book-Author          271359 non-null  object\n",
      " 3   Year-Of-Publication  271360 non-null  object\n",
      " 4   Publisher            271358 non-null  object\n",
      " 5   Image-URL-S          271360 non-null  object\n",
      " 6   Image-URL-M          271360 non-null  object\n",
      " 7   Image-URL-L          271357 non-null  object\n",
      "dtypes: object(8)\n",
      "memory usage: 16.6+ MB\n"
     ]
    }
   ],
   "source": [
    "books.info()"
   ]
  },
  {
   "cell_type": "markdown",
   "id": "7891da92",
   "metadata": {},
   "source": [
    "#### <font color='darkviolet'>Key Observations:\n",
    "- There are total of 271360 records\n",
    "- All columns are of object type including 'Year of Publication'\n",
    "- Missing values are present in the data"
   ]
  },
  {
   "cell_type": "code",
   "execution_count": 73,
   "id": "101f0222",
   "metadata": {},
   "outputs": [
    {
     "data": {
      "text/html": [
       "<div>\n",
       "<style scoped>\n",
       "    .dataframe tbody tr th:only-of-type {\n",
       "        vertical-align: middle;\n",
       "    }\n",
       "\n",
       "    .dataframe tbody tr th {\n",
       "        vertical-align: top;\n",
       "    }\n",
       "\n",
       "    .dataframe thead th {\n",
       "        text-align: right;\n",
       "    }\n",
       "</style>\n",
       "<table border=\"1\" class=\"dataframe\">\n",
       "  <thead>\n",
       "    <tr style=\"text-align: right;\">\n",
       "      <th></th>\n",
       "      <th>ISBN</th>\n",
       "      <th>Book-Title</th>\n",
       "      <th>Book-Author</th>\n",
       "      <th>Year-Of-Publication</th>\n",
       "      <th>Publisher</th>\n",
       "      <th>Image-URL-S</th>\n",
       "      <th>Image-URL-M</th>\n",
       "      <th>Image-URL-L</th>\n",
       "    </tr>\n",
       "  </thead>\n",
       "  <tbody>\n",
       "    <tr>\n",
       "      <th>count</th>\n",
       "      <td>271360</td>\n",
       "      <td>271360</td>\n",
       "      <td>271359</td>\n",
       "      <td>271360</td>\n",
       "      <td>271358</td>\n",
       "      <td>271360</td>\n",
       "      <td>271360</td>\n",
       "      <td>271357</td>\n",
       "    </tr>\n",
       "    <tr>\n",
       "      <th>unique</th>\n",
       "      <td>271360</td>\n",
       "      <td>242135</td>\n",
       "      <td>102023</td>\n",
       "      <td>202</td>\n",
       "      <td>16807</td>\n",
       "      <td>271044</td>\n",
       "      <td>271044</td>\n",
       "      <td>271041</td>\n",
       "    </tr>\n",
       "    <tr>\n",
       "      <th>top</th>\n",
       "      <td>0195153448</td>\n",
       "      <td>Selected Poems</td>\n",
       "      <td>Agatha Christie</td>\n",
       "      <td>2002</td>\n",
       "      <td>Harlequin</td>\n",
       "      <td>http://images.amazon.com/images/P/185326119X.0...</td>\n",
       "      <td>http://images.amazon.com/images/P/185326119X.0...</td>\n",
       "      <td>http://images.amazon.com/images/P/225307649X.0...</td>\n",
       "    </tr>\n",
       "    <tr>\n",
       "      <th>freq</th>\n",
       "      <td>1</td>\n",
       "      <td>27</td>\n",
       "      <td>632</td>\n",
       "      <td>13903</td>\n",
       "      <td>7535</td>\n",
       "      <td>2</td>\n",
       "      <td>2</td>\n",
       "      <td>2</td>\n",
       "    </tr>\n",
       "  </tbody>\n",
       "</table>\n",
       "</div>"
      ],
      "text/plain": [
       "              ISBN      Book-Title      Book-Author  Year-Of-Publication  \\\n",
       "count       271360          271360           271359               271360   \n",
       "unique      271360          242135           102023                  202   \n",
       "top     0195153448  Selected Poems  Agatha Christie                 2002   \n",
       "freq             1              27              632                13903   \n",
       "\n",
       "        Publisher                                        Image-URL-S  \\\n",
       "count      271358                                             271360   \n",
       "unique      16807                                             271044   \n",
       "top     Harlequin  http://images.amazon.com/images/P/185326119X.0...   \n",
       "freq         7535                                                  2   \n",
       "\n",
       "                                              Image-URL-M  \\\n",
       "count                                              271360   \n",
       "unique                                             271044   \n",
       "top     http://images.amazon.com/images/P/185326119X.0...   \n",
       "freq                                                    2   \n",
       "\n",
       "                                              Image-URL-L  \n",
       "count                                              271357  \n",
       "unique                                             271041  \n",
       "top     http://images.amazon.com/images/P/225307649X.0...  \n",
       "freq                                                    2  "
      ]
     },
     "execution_count": 73,
     "metadata": {},
     "output_type": "execute_result"
    }
   ],
   "source": [
    "books.describe(include='O')"
   ]
  },
  {
   "cell_type": "markdown",
   "id": "66acef70",
   "metadata": {},
   "source": [
    "#### <font color='darkviolet'>Key Observations:\n",
    "- Book with title \"Selected Poems\" appeared the most number of times\n",
    "- Agatha Christie wrote the most number of books(632) available on the website\n",
    "- Harlequin is the popular publication among all publishing 7535 books"
   ]
  },
  {
   "cell_type": "markdown",
   "id": "8cd5df71",
   "metadata": {},
   "source": [
    "### Users Dataset"
   ]
  },
  {
   "cell_type": "code",
   "execution_count": 74,
   "id": "4aa385a2",
   "metadata": {},
   "outputs": [],
   "source": [
    "users = pd.read_csv(\"book_users.csv\", encoding=\"latin-1\", error_bad_lines=False, sep=\";\")"
   ]
  },
  {
   "cell_type": "code",
   "execution_count": 75,
   "id": "68543e4b",
   "metadata": {},
   "outputs": [
    {
     "data": {
      "text/html": [
       "<div>\n",
       "<style scoped>\n",
       "    .dataframe tbody tr th:only-of-type {\n",
       "        vertical-align: middle;\n",
       "    }\n",
       "\n",
       "    .dataframe tbody tr th {\n",
       "        vertical-align: top;\n",
       "    }\n",
       "\n",
       "    .dataframe thead th {\n",
       "        text-align: right;\n",
       "    }\n",
       "</style>\n",
       "<table border=\"1\" class=\"dataframe\">\n",
       "  <thead>\n",
       "    <tr style=\"text-align: right;\">\n",
       "      <th></th>\n",
       "      <th>User-ID</th>\n",
       "      <th>Location</th>\n",
       "      <th>Age</th>\n",
       "    </tr>\n",
       "  </thead>\n",
       "  <tbody>\n",
       "    <tr>\n",
       "      <th>0</th>\n",
       "      <td>1</td>\n",
       "      <td>nyc, new york, usa</td>\n",
       "      <td>NaN</td>\n",
       "    </tr>\n",
       "    <tr>\n",
       "      <th>1</th>\n",
       "      <td>2</td>\n",
       "      <td>stockton, california, usa</td>\n",
       "      <td>18.0</td>\n",
       "    </tr>\n",
       "    <tr>\n",
       "      <th>2</th>\n",
       "      <td>3</td>\n",
       "      <td>moscow, yukon territory, russia</td>\n",
       "      <td>NaN</td>\n",
       "    </tr>\n",
       "    <tr>\n",
       "      <th>3</th>\n",
       "      <td>4</td>\n",
       "      <td>porto, v.n.gaia, portugal</td>\n",
       "      <td>17.0</td>\n",
       "    </tr>\n",
       "    <tr>\n",
       "      <th>4</th>\n",
       "      <td>5</td>\n",
       "      <td>farnborough, hants, united kingdom</td>\n",
       "      <td>NaN</td>\n",
       "    </tr>\n",
       "  </tbody>\n",
       "</table>\n",
       "</div>"
      ],
      "text/plain": [
       "   User-ID                            Location   Age\n",
       "0        1                  nyc, new york, usa   NaN\n",
       "1        2           stockton, california, usa  18.0\n",
       "2        3     moscow, yukon territory, russia   NaN\n",
       "3        4           porto, v.n.gaia, portugal  17.0\n",
       "4        5  farnborough, hants, united kingdom   NaN"
      ]
     },
     "execution_count": 75,
     "metadata": {},
     "output_type": "execute_result"
    }
   ],
   "source": [
    "users.head()"
   ]
  },
  {
   "cell_type": "code",
   "execution_count": 76,
   "id": "dd646ba8",
   "metadata": {},
   "outputs": [
    {
     "name": "stdout",
     "output_type": "stream",
     "text": [
      "<class 'pandas.core.frame.DataFrame'>\n",
      "RangeIndex: 278858 entries, 0 to 278857\n",
      "Data columns (total 3 columns):\n",
      " #   Column    Non-Null Count   Dtype  \n",
      "---  ------    --------------   -----  \n",
      " 0   User-ID   278858 non-null  int64  \n",
      " 1   Location  278858 non-null  object \n",
      " 2   Age       168096 non-null  float64\n",
      "dtypes: float64(1), int64(1), object(1)\n",
      "memory usage: 6.4+ MB\n"
     ]
    }
   ],
   "source": [
    "users.info()"
   ]
  },
  {
   "cell_type": "markdown",
   "id": "af4d9104",
   "metadata": {},
   "source": [
    "#### <font color='darkviolet'>Key Observations:\n",
    "- Ages of 110762 users are missing"
   ]
  },
  {
   "cell_type": "code",
   "execution_count": 77,
   "id": "cdef1e61",
   "metadata": {},
   "outputs": [
    {
     "data": {
      "text/html": [
       "<div>\n",
       "<style scoped>\n",
       "    .dataframe tbody tr th:only-of-type {\n",
       "        vertical-align: middle;\n",
       "    }\n",
       "\n",
       "    .dataframe tbody tr th {\n",
       "        vertical-align: top;\n",
       "    }\n",
       "\n",
       "    .dataframe thead th {\n",
       "        text-align: right;\n",
       "    }\n",
       "</style>\n",
       "<table border=\"1\" class=\"dataframe\">\n",
       "  <thead>\n",
       "    <tr style=\"text-align: right;\">\n",
       "      <th></th>\n",
       "      <th>User-ID</th>\n",
       "      <th>Age</th>\n",
       "    </tr>\n",
       "  </thead>\n",
       "  <tbody>\n",
       "    <tr>\n",
       "      <th>count</th>\n",
       "      <td>278858.00000</td>\n",
       "      <td>168096.000000</td>\n",
       "    </tr>\n",
       "    <tr>\n",
       "      <th>mean</th>\n",
       "      <td>139429.50000</td>\n",
       "      <td>34.751434</td>\n",
       "    </tr>\n",
       "    <tr>\n",
       "      <th>std</th>\n",
       "      <td>80499.51502</td>\n",
       "      <td>14.428097</td>\n",
       "    </tr>\n",
       "    <tr>\n",
       "      <th>min</th>\n",
       "      <td>1.00000</td>\n",
       "      <td>0.000000</td>\n",
       "    </tr>\n",
       "    <tr>\n",
       "      <th>25%</th>\n",
       "      <td>69715.25000</td>\n",
       "      <td>24.000000</td>\n",
       "    </tr>\n",
       "    <tr>\n",
       "      <th>50%</th>\n",
       "      <td>139429.50000</td>\n",
       "      <td>32.000000</td>\n",
       "    </tr>\n",
       "    <tr>\n",
       "      <th>75%</th>\n",
       "      <td>209143.75000</td>\n",
       "      <td>44.000000</td>\n",
       "    </tr>\n",
       "    <tr>\n",
       "      <th>max</th>\n",
       "      <td>278858.00000</td>\n",
       "      <td>244.000000</td>\n",
       "    </tr>\n",
       "  </tbody>\n",
       "</table>\n",
       "</div>"
      ],
      "text/plain": [
       "            User-ID            Age\n",
       "count  278858.00000  168096.000000\n",
       "mean   139429.50000      34.751434\n",
       "std     80499.51502      14.428097\n",
       "min         1.00000       0.000000\n",
       "25%     69715.25000      24.000000\n",
       "50%    139429.50000      32.000000\n",
       "75%    209143.75000      44.000000\n",
       "max    278858.00000     244.000000"
      ]
     },
     "execution_count": 77,
     "metadata": {},
     "output_type": "execute_result"
    }
   ],
   "source": [
    "users.describe()"
   ]
  },
  {
   "cell_type": "code",
   "execution_count": 78,
   "id": "046ac844",
   "metadata": {},
   "outputs": [
    {
     "data": {
      "text/html": [
       "<div>\n",
       "<style scoped>\n",
       "    .dataframe tbody tr th:only-of-type {\n",
       "        vertical-align: middle;\n",
       "    }\n",
       "\n",
       "    .dataframe tbody tr th {\n",
       "        vertical-align: top;\n",
       "    }\n",
       "\n",
       "    .dataframe thead th {\n",
       "        text-align: right;\n",
       "    }\n",
       "</style>\n",
       "<table border=\"1\" class=\"dataframe\">\n",
       "  <thead>\n",
       "    <tr style=\"text-align: right;\">\n",
       "      <th></th>\n",
       "      <th>Location</th>\n",
       "    </tr>\n",
       "  </thead>\n",
       "  <tbody>\n",
       "    <tr>\n",
       "      <th>count</th>\n",
       "      <td>278858</td>\n",
       "    </tr>\n",
       "    <tr>\n",
       "      <th>unique</th>\n",
       "      <td>57339</td>\n",
       "    </tr>\n",
       "    <tr>\n",
       "      <th>top</th>\n",
       "      <td>london, england, united kingdom</td>\n",
       "    </tr>\n",
       "    <tr>\n",
       "      <th>freq</th>\n",
       "      <td>2506</td>\n",
       "    </tr>\n",
       "  </tbody>\n",
       "</table>\n",
       "</div>"
      ],
      "text/plain": [
       "                               Location\n",
       "count                            278858\n",
       "unique                            57339\n",
       "top     london, england, united kingdom\n",
       "freq                               2506"
      ]
     },
     "execution_count": 78,
     "metadata": {},
     "output_type": "execute_result"
    }
   ],
   "source": [
    "users.describe(include='O')"
   ]
  },
  {
   "cell_type": "markdown",
   "id": "020dc4ec",
   "metadata": {},
   "source": [
    "#### <font color='darkviolet'>Key Observations:\n",
    "- Average age of the users is 34 years\n",
    "- Maximum age of user is shown as 244 years which seems typo error. Also minimum age is 0 which is also not possible\n",
    "- The most of the user of the websites are from London"
   ]
  },
  {
   "cell_type": "markdown",
   "id": "0a8d17f7",
   "metadata": {},
   "source": [
    "### Ratings Dataset"
   ]
  },
  {
   "cell_type": "code",
   "execution_count": 79,
   "id": "57987ce7",
   "metadata": {},
   "outputs": [],
   "source": [
    "ratings = pd.read_csv(\"book_ratings.csv\", encoding=\"latin-1\", error_bad_lines=False, sep=\";\")"
   ]
  },
  {
   "cell_type": "code",
   "execution_count": 80,
   "id": "5ead8dec",
   "metadata": {},
   "outputs": [
    {
     "data": {
      "text/html": [
       "<div>\n",
       "<style scoped>\n",
       "    .dataframe tbody tr th:only-of-type {\n",
       "        vertical-align: middle;\n",
       "    }\n",
       "\n",
       "    .dataframe tbody tr th {\n",
       "        vertical-align: top;\n",
       "    }\n",
       "\n",
       "    .dataframe thead th {\n",
       "        text-align: right;\n",
       "    }\n",
       "</style>\n",
       "<table border=\"1\" class=\"dataframe\">\n",
       "  <thead>\n",
       "    <tr style=\"text-align: right;\">\n",
       "      <th></th>\n",
       "      <th>User-ID</th>\n",
       "      <th>ISBN</th>\n",
       "      <th>Book-Rating</th>\n",
       "    </tr>\n",
       "  </thead>\n",
       "  <tbody>\n",
       "    <tr>\n",
       "      <th>0</th>\n",
       "      <td>276725</td>\n",
       "      <td>034545104X</td>\n",
       "      <td>0</td>\n",
       "    </tr>\n",
       "    <tr>\n",
       "      <th>1</th>\n",
       "      <td>276726</td>\n",
       "      <td>0155061224</td>\n",
       "      <td>5</td>\n",
       "    </tr>\n",
       "    <tr>\n",
       "      <th>2</th>\n",
       "      <td>276727</td>\n",
       "      <td>0446520802</td>\n",
       "      <td>0</td>\n",
       "    </tr>\n",
       "    <tr>\n",
       "      <th>3</th>\n",
       "      <td>276729</td>\n",
       "      <td>052165615X</td>\n",
       "      <td>3</td>\n",
       "    </tr>\n",
       "    <tr>\n",
       "      <th>4</th>\n",
       "      <td>276729</td>\n",
       "      <td>0521795028</td>\n",
       "      <td>6</td>\n",
       "    </tr>\n",
       "    <tr>\n",
       "      <th>...</th>\n",
       "      <td>...</td>\n",
       "      <td>...</td>\n",
       "      <td>...</td>\n",
       "    </tr>\n",
       "    <tr>\n",
       "      <th>1149775</th>\n",
       "      <td>276704</td>\n",
       "      <td>1563526298</td>\n",
       "      <td>9</td>\n",
       "    </tr>\n",
       "    <tr>\n",
       "      <th>1149776</th>\n",
       "      <td>276706</td>\n",
       "      <td>0679447156</td>\n",
       "      <td>0</td>\n",
       "    </tr>\n",
       "    <tr>\n",
       "      <th>1149777</th>\n",
       "      <td>276709</td>\n",
       "      <td>0515107662</td>\n",
       "      <td>10</td>\n",
       "    </tr>\n",
       "    <tr>\n",
       "      <th>1149778</th>\n",
       "      <td>276721</td>\n",
       "      <td>0590442449</td>\n",
       "      <td>10</td>\n",
       "    </tr>\n",
       "    <tr>\n",
       "      <th>1149779</th>\n",
       "      <td>276723</td>\n",
       "      <td>05162443314</td>\n",
       "      <td>8</td>\n",
       "    </tr>\n",
       "  </tbody>\n",
       "</table>\n",
       "<p>1149780 rows × 3 columns</p>\n",
       "</div>"
      ],
      "text/plain": [
       "         User-ID         ISBN  Book-Rating\n",
       "0         276725   034545104X            0\n",
       "1         276726   0155061224            5\n",
       "2         276727   0446520802            0\n",
       "3         276729   052165615X            3\n",
       "4         276729   0521795028            6\n",
       "...          ...          ...          ...\n",
       "1149775   276704   1563526298            9\n",
       "1149776   276706   0679447156            0\n",
       "1149777   276709   0515107662           10\n",
       "1149778   276721   0590442449           10\n",
       "1149779   276723  05162443314            8\n",
       "\n",
       "[1149780 rows x 3 columns]"
      ]
     },
     "execution_count": 80,
     "metadata": {},
     "output_type": "execute_result"
    }
   ],
   "source": [
    "ratings"
   ]
  },
  {
   "cell_type": "code",
   "execution_count": 81,
   "id": "31750fcd",
   "metadata": {},
   "outputs": [
    {
     "name": "stdout",
     "output_type": "stream",
     "text": [
      "<class 'pandas.core.frame.DataFrame'>\n",
      "RangeIndex: 1149780 entries, 0 to 1149779\n",
      "Data columns (total 3 columns):\n",
      " #   Column       Non-Null Count    Dtype \n",
      "---  ------       --------------    ----- \n",
      " 0   User-ID      1149780 non-null  int64 \n",
      " 1   ISBN         1149780 non-null  object\n",
      " 2   Book-Rating  1149780 non-null  int64 \n",
      "dtypes: int64(2), object(1)\n",
      "memory usage: 26.3+ MB\n"
     ]
    }
   ],
   "source": [
    "ratings.info()"
   ]
  },
  {
   "cell_type": "code",
   "execution_count": 82,
   "id": "34a6d78c",
   "metadata": {},
   "outputs": [
    {
     "data": {
      "text/html": [
       "<div>\n",
       "<style scoped>\n",
       "    .dataframe tbody tr th:only-of-type {\n",
       "        vertical-align: middle;\n",
       "    }\n",
       "\n",
       "    .dataframe tbody tr th {\n",
       "        vertical-align: top;\n",
       "    }\n",
       "\n",
       "    .dataframe thead th {\n",
       "        text-align: right;\n",
       "    }\n",
       "</style>\n",
       "<table border=\"1\" class=\"dataframe\">\n",
       "  <thead>\n",
       "    <tr style=\"text-align: right;\">\n",
       "      <th></th>\n",
       "      <th>User-ID</th>\n",
       "      <th>Book-Rating</th>\n",
       "    </tr>\n",
       "  </thead>\n",
       "  <tbody>\n",
       "    <tr>\n",
       "      <th>count</th>\n",
       "      <td>1.149780e+06</td>\n",
       "      <td>1.149780e+06</td>\n",
       "    </tr>\n",
       "    <tr>\n",
       "      <th>mean</th>\n",
       "      <td>1.403864e+05</td>\n",
       "      <td>2.866950e+00</td>\n",
       "    </tr>\n",
       "    <tr>\n",
       "      <th>std</th>\n",
       "      <td>8.056228e+04</td>\n",
       "      <td>3.854184e+00</td>\n",
       "    </tr>\n",
       "    <tr>\n",
       "      <th>min</th>\n",
       "      <td>2.000000e+00</td>\n",
       "      <td>0.000000e+00</td>\n",
       "    </tr>\n",
       "    <tr>\n",
       "      <th>25%</th>\n",
       "      <td>7.034500e+04</td>\n",
       "      <td>0.000000e+00</td>\n",
       "    </tr>\n",
       "    <tr>\n",
       "      <th>50%</th>\n",
       "      <td>1.410100e+05</td>\n",
       "      <td>0.000000e+00</td>\n",
       "    </tr>\n",
       "    <tr>\n",
       "      <th>75%</th>\n",
       "      <td>2.110280e+05</td>\n",
       "      <td>7.000000e+00</td>\n",
       "    </tr>\n",
       "    <tr>\n",
       "      <th>max</th>\n",
       "      <td>2.788540e+05</td>\n",
       "      <td>1.000000e+01</td>\n",
       "    </tr>\n",
       "  </tbody>\n",
       "</table>\n",
       "</div>"
      ],
      "text/plain": [
       "            User-ID   Book-Rating\n",
       "count  1.149780e+06  1.149780e+06\n",
       "mean   1.403864e+05  2.866950e+00\n",
       "std    8.056228e+04  3.854184e+00\n",
       "min    2.000000e+00  0.000000e+00\n",
       "25%    7.034500e+04  0.000000e+00\n",
       "50%    1.410100e+05  0.000000e+00\n",
       "75%    2.110280e+05  7.000000e+00\n",
       "max    2.788540e+05  1.000000e+01"
      ]
     },
     "execution_count": 82,
     "metadata": {},
     "output_type": "execute_result"
    }
   ],
   "source": [
    "ratings.describe()"
   ]
  },
  {
   "cell_type": "code",
   "execution_count": 83,
   "id": "19bcbdfc",
   "metadata": {},
   "outputs": [
    {
     "data": {
      "text/html": [
       "<div>\n",
       "<style scoped>\n",
       "    .dataframe tbody tr th:only-of-type {\n",
       "        vertical-align: middle;\n",
       "    }\n",
       "\n",
       "    .dataframe tbody tr th {\n",
       "        vertical-align: top;\n",
       "    }\n",
       "\n",
       "    .dataframe thead th {\n",
       "        text-align: right;\n",
       "    }\n",
       "</style>\n",
       "<table border=\"1\" class=\"dataframe\">\n",
       "  <thead>\n",
       "    <tr style=\"text-align: right;\">\n",
       "      <th></th>\n",
       "      <th>ISBN</th>\n",
       "    </tr>\n",
       "  </thead>\n",
       "  <tbody>\n",
       "    <tr>\n",
       "      <th>count</th>\n",
       "      <td>1149780</td>\n",
       "    </tr>\n",
       "    <tr>\n",
       "      <th>unique</th>\n",
       "      <td>340556</td>\n",
       "    </tr>\n",
       "    <tr>\n",
       "      <th>top</th>\n",
       "      <td>0971880107</td>\n",
       "    </tr>\n",
       "    <tr>\n",
       "      <th>freq</th>\n",
       "      <td>2502</td>\n",
       "    </tr>\n",
       "  </tbody>\n",
       "</table>\n",
       "</div>"
      ],
      "text/plain": [
       "              ISBN\n",
       "count      1149780\n",
       "unique      340556\n",
       "top     0971880107\n",
       "freq          2502"
      ]
     },
     "execution_count": 83,
     "metadata": {},
     "output_type": "execute_result"
    }
   ],
   "source": [
    "ratings.describe(include='O')"
   ]
  },
  {
   "cell_type": "markdown",
   "id": "0e2f64f1",
   "metadata": {},
   "source": [
    "#### <font color='darkviolet'>Key Observations:\n",
    "- User gave rating on Book with ISBN number 0971880107 most number of times among all"
   ]
  },
  {
   "cell_type": "markdown",
   "id": "07b0364d",
   "metadata": {},
   "source": [
    "# Feature Selection"
   ]
  },
  {
   "attachments": {
    "dataset.png": {
     "image/png": "[encoded data removed]"
    }
   },
   "cell_type": "markdown",
   "id": "9159935a",
   "metadata": {},
   "source": [
    "In previous section, we have read all the datasets and gathered primary insights from the data. Let's also have a look at how these 3 datasets are linked with each other. Following image gives us enough idea on the same.\n",
    "\n",
    "![dataset.png](attachment:dataset.png)\n",
    "\n",
    "\n",
    "Ratings dataset have linkage to both books and users datasets. If we put the relation into words, \n",
    "\n",
    "\"User with user ID provides ratings to a book with ISBN number\"\n",
    "\n",
    "These brough us to filter down our dataset to following specific columns:\n",
    "\n",
    "- User Id\n",
    "- ISBN\n",
    "- Ratings\n",
    "\n",
    "\n",
    "Other columns are irrelevant for our model creation. We will delete some unnecessary columns.\n",
    "\n",
    "However we will keep \"image-URL-M\" column for keeping image url for reference\n",
    "\n",
    "Also, some of the column names are long and complex, we will simplify those"
   ]
  },
  {
   "cell_type": "code",
   "execution_count": 84,
   "id": "7cc98d11",
   "metadata": {},
   "outputs": [],
   "source": [
    "#updating column names in books dataset\n",
    "books= books[['ISBN', 'Book-Title', 'Book-Author', 'Year-Of-Publication', 'Publisher','Image-URL-M']]\n",
    "books.columns = ['ISBN', 'title', 'author', 'year', 'publisher','image']"
   ]
  },
  {
   "cell_type": "code",
   "execution_count": 85,
   "id": "f8c22ce0",
   "metadata": {},
   "outputs": [],
   "source": [
    "#updating column names in users dataset\n",
    "users.rename(columns = {\"User-ID\":\"user\"}, inplace=True)"
   ]
  },
  {
   "cell_type": "code",
   "execution_count": 86,
   "id": "a7c01afe",
   "metadata": {},
   "outputs": [],
   "source": [
    "#updating column names in ratings dataset\n",
    "ratings.rename(columns = {\"User-ID\":\"user\", \"Book-Rating\": \"rating\"}, inplace=True)"
   ]
  },
  {
   "cell_type": "markdown",
   "id": "8bd622d9",
   "metadata": {},
   "source": [
    "# Selecting strategy for Recommender systems"
   ]
  },
  {
   "cell_type": "markdown",
   "id": "874d4f5a",
   "metadata": {},
   "source": [
    "As discussed earlier, the project is focused on creating book recommendations to the users. When we talk about recommendation systems, there are mainly two types:\n",
    "\n",
    "#### Popularity based recommendation\n",
    "\n",
    "A popularity-based recommendation system recommends items that are popular among a group of users. It is based on the assumption that items that are popular among many people are likely to be of interest to new users as well. This is formula based algorithm. It means every company has a cetain formula to form a rating system according to which the contents are recommended.\n",
    "\n",
    "\n",
    "#### Context based recommendation\n",
    "\n",
    "A context-based recommendation system is a type of recommendation system that takes into account the context of the user's request to make more relevant and personalized recommendations. The context can include various factors such as the user's location, time of day, current weather, past behavior, and more.\n",
    "\n",
    "Context-based recommendation systems are considered more accurate and personalized than traditional recommendation systems, as they take into account the user's current situation, needs and preferences. They are widely used in many areas such as e-commerce, entertainment and social media.\n",
    "\n",
    "\n",
    "\n",
    "#### Collaborative recommendation\n",
    "\n",
    "A collaborative recommendation system is a type of recommendation system that makes recommendations based on the similarity of users or items. It uses the historical behavior and preferences of users to make recommendations for new items.\n",
    "\n",
    "Collaborative recommendation systems can be useful when there is limited information available about the users or items, and when the data is sparse. They are widely used in areas such as e-commerce, entertainment and social media. Collaborative filtering techniques can be implemented using techniques such as matrix factorization and neighborhood-based methods.\n",
    "\n",
    "#### Hybrid recommendation \n",
    "\n",
    "A hybrid recommendation system combines the strengths of multiple recommendation techniques to produce more accurate and diverse recommendations. These systems typically use a combination of collaborative filtering, content-based filtering, and demographic filtering to make personalized recommendations for users. The idea is to leverage the strengths of each technique to overcome their weaknesses and produce more accurate and robust recommendations. Hybrid systems often use a combination of techniques such as memory-based and model-based collaborative filtering, or content-based and demographic-based filtering.\n",
    "\n",
    "#### For this project, I have selected <font color='tomato'>User based Collaborative recommendation system</font> considering the following points:\n",
    "\n",
    "- <font color='darkviolet'>Collaborative recommendation systems rely on the past behavior and preferences of users to recommend items to other users. This means that they take into account the similarities and differences between users in order to make personalized recommendations. \n",
    "- <font color='darkviolet'>Collaborative recommendation systems are particularly useful for recommending items that are based on the preferences of similar users, such as books. \n",
    "- <font color='darkviolet'>Additionally, collaborative recommendation systems can also help to identify and recommend items that are popular among a group of users, which can be useful for recommending best-selling or highly rated books."
   ]
  },
  {
   "cell_type": "markdown",
   "id": "af5b9970",
   "metadata": {},
   "source": [
    "# Exploratory Data Analysis"
   ]
  },
  {
   "cell_type": "markdown",
   "id": "3c56cf46",
   "metadata": {},
   "source": [
    "#### Who gave the rating most number of times?"
   ]
  },
  {
   "cell_type": "code",
   "execution_count": 87,
   "id": "b3d7497c",
   "metadata": {},
   "outputs": [
    {
     "data": {
      "image/png": "[encoded data removed]",
      "text/plain": [
       "<Figure size 640x480 with 1 Axes>"
      ]
     },
     "metadata": {},
     "output_type": "display_data"
    }
   ],
   "source": [
    "ratings.user.value_counts().head(10).plot(kind='bar')\n",
    "plt.ylabel('Number of Ratings')\n",
    "plt.xlabel('User ID')\n",
    "plt.title('User who gave highest number of ratings');"
   ]
  },
  {
   "cell_type": "markdown",
   "id": "1dd0299a",
   "metadata": {},
   "source": [
    "Above plot shows users who gave ratings most number of times. User with ID 11676 seems to be very active giving amost 14000 ratings."
   ]
  },
  {
   "cell_type": "markdown",
   "id": "60d11fc4",
   "metadata": {},
   "source": [
    "#### Which books recieved ratings highest number of time?"
   ]
  },
  {
   "cell_type": "code",
   "execution_count": 88,
   "id": "5957bd29",
   "metadata": {},
   "outputs": [
    {
     "data": {
      "image/png": "[encoded data removed]",
      "text/plain": [
       "<Figure size 640x480 with 1 Axes>"
      ]
     },
     "metadata": {},
     "output_type": "display_data"
    }
   ],
   "source": [
    "ratings.ISBN.value_counts().head(10).plot(kind='bar')\n",
    "plt.ylabel('Number of Ratings')\n",
    "plt.xlabel('ISBN number')\n",
    "plt.title('Books which are rated highest number of times');"
   ]
  },
  {
   "cell_type": "code",
   "execution_count": 89,
   "id": "1f6fc48c",
   "metadata": {},
   "outputs": [
    {
     "data": {
      "text/html": [
       "<div>\n",
       "<style scoped>\n",
       "    .dataframe tbody tr th:only-of-type {\n",
       "        vertical-align: middle;\n",
       "    }\n",
       "\n",
       "    .dataframe tbody tr th {\n",
       "        vertical-align: top;\n",
       "    }\n",
       "\n",
       "    .dataframe thead th {\n",
       "        text-align: right;\n",
       "    }\n",
       "</style>\n",
       "<table border=\"1\" class=\"dataframe\">\n",
       "  <thead>\n",
       "    <tr style=\"text-align: right;\">\n",
       "      <th></th>\n",
       "      <th>ISBN</th>\n",
       "      <th>title</th>\n",
       "      <th>author</th>\n",
       "      <th>year</th>\n",
       "      <th>publisher</th>\n",
       "      <th>image</th>\n",
       "    </tr>\n",
       "  </thead>\n",
       "  <tbody>\n",
       "    <tr>\n",
       "      <th>408</th>\n",
       "      <td>0316666343</td>\n",
       "      <td>The Lovely Bones: A Novel</td>\n",
       "      <td>Alice Sebold</td>\n",
       "      <td>2002</td>\n",
       "      <td>Little, Brown</td>\n",
       "      <td>http://images.amazon.com/images/P/0316666343.0...</td>\n",
       "    </tr>\n",
       "  </tbody>\n",
       "</table>\n",
       "</div>"
      ],
      "text/plain": [
       "           ISBN                      title        author  year      publisher  \\\n",
       "408  0316666343  The Lovely Bones: A Novel  Alice Sebold  2002  Little, Brown   \n",
       "\n",
       "                                                 image  \n",
       "408  http://images.amazon.com/images/P/0316666343.0...  "
      ]
     },
     "execution_count": 89,
     "metadata": {},
     "output_type": "execute_result"
    }
   ],
   "source": [
    "books[books['ISBN']=='0971880107']\n",
    "books[books['ISBN']=='0316666343']"
   ]
  },
  {
   "cell_type": "markdown",
   "id": "a69ca87c",
   "metadata": {},
   "source": [
    "The book 'Wild Anumus' written by Rich Shapero has recieved ratings from users most number of times. It is two times higher than the book 'The Lovely Bones: A Novel' which is next in line."
   ]
  },
  {
   "cell_type": "markdown",
   "id": "3f175d73",
   "metadata": {},
   "source": [
    "#### Books with highest average rating"
   ]
  },
  {
   "cell_type": "code",
   "execution_count": 90,
   "id": "f0457176",
   "metadata": {},
   "outputs": [
    {
     "name": "stdout",
     "output_type": "stream",
     "text": [
      "ISBN\n",
      "0874477050    10.0\n",
      "561002010     10.0\n",
      "0590939874    10.0\n",
      "1570761914    10.0\n",
      "56500624X     10.0\n",
      "              ... \n",
      "0866838937     0.0\n",
      "0866839070     0.0\n",
      "0866839100     0.0\n",
      "0866839453     0.0\n",
      "0439216397     0.0\n",
      "Name: rating, Length: 340556, dtype: float64\n"
     ]
    }
   ],
   "source": [
    "average_ratings = ratings.groupby('ISBN')['rating'].mean().sort_values(ascending=False)\n",
    "print(average_ratings)"
   ]
  },
  {
   "cell_type": "code",
   "execution_count": 91,
   "id": "9191d929",
   "metadata": {},
   "outputs": [
    {
     "data": {
      "text/plain": [
       "(16762,)"
      ]
     },
     "execution_count": 91,
     "metadata": {},
     "output_type": "execute_result"
    }
   ],
   "source": [
    "average_ratings[average_ratings==10.0].shape"
   ]
  },
  {
   "cell_type": "markdown",
   "id": "45a425c4",
   "metadata": {},
   "source": [
    "There are 16762 books with average ratings 10"
   ]
  },
  {
   "cell_type": "code",
   "execution_count": 92,
   "id": "79ad25c7",
   "metadata": {},
   "outputs": [
    {
     "data": {
      "text/plain": [
       "0     716109\n",
       "8     103736\n",
       "10     78610\n",
       "7      76457\n",
       "9      67541\n",
       "5      50974\n",
       "6      36924\n",
       "4       8904\n",
       "3       5996\n",
       "2       2759\n",
       "1       1770\n",
       "Name: rating, dtype: int64"
      ]
     },
     "execution_count": 92,
     "metadata": {},
     "output_type": "execute_result"
    }
   ],
   "source": [
    "ratings['rating'].value_counts().sort_values(ascending=False)"
   ]
  },
  {
   "cell_type": "markdown",
   "id": "6a3a1a6f",
   "metadata": {},
   "source": [
    "#### Rating analysis"
   ]
  },
  {
   "cell_type": "code",
   "execution_count": 93,
   "id": "669d927e",
   "metadata": {},
   "outputs": [
    {
     "data": {
      "image/png": "[encoded data removed]",
      "text/plain": [
       "<Figure size 640x480 with 1 Axes>"
      ]
     },
     "metadata": {},
     "output_type": "display_data"
    }
   ],
   "source": [
    "#Visualize the distribution of ratings\n",
    "plt.hist(ratings['rating'], bins=20, align='mid')\n",
    "plt.xlabel('Ratings')\n",
    "plt.ylabel('Counts')\n",
    "plt.title('Rating Distribution')\n",
    "plt.show()"
   ]
  },
  {
   "cell_type": "markdown",
   "id": "73920d14",
   "metadata": {},
   "source": [
    "From the histogram, we can see that the most common rating value is 0(implicit rating), followed by 8, 10, and then 7. It indicates that most of the people who rated the books gave high ratings. This could mean that the books in the dataset are generally most-liked by the users."
   ]
  },
  {
   "cell_type": "markdown",
   "id": "adf50216",
   "metadata": {},
   "source": [
    "#### User who gave highest and lowest ratings on an average"
   ]
  },
  {
   "cell_type": "code",
   "execution_count": 94,
   "id": "8eb176f5",
   "metadata": {},
   "outputs": [
    {
     "name": "stdout",
     "output_type": "stream",
     "text": [
      "user\n",
      "162951    10.0\n",
      "21620     10.0\n",
      "210063    10.0\n",
      "250956    10.0\n",
      "21611     10.0\n",
      "          ... \n",
      "198846     0.0\n",
      "198838     0.0\n",
      "60129      0.0\n",
      "198835     0.0\n",
      "2          0.0\n",
      "Name: rating, Length: 105283, dtype: float64\n"
     ]
    }
   ],
   "source": [
    "user_high_ratings = ratings.groupby('user')['rating'].mean().sort_values(ascending=False)\n",
    "print(user_high_ratings)"
   ]
  },
  {
   "cell_type": "code",
   "execution_count": 95,
   "id": "a8bf7af7",
   "metadata": {},
   "outputs": [
    {
     "data": {
      "text/plain": [
       "user\n",
       "162951    10.0\n",
       "21620     10.0\n",
       "210063    10.0\n",
       "250956    10.0\n",
       "21611     10.0\n",
       "          ... \n",
       "126212    10.0\n",
       "153157    10.0\n",
       "70        10.0\n",
       "10840     10.0\n",
       "1539      10.0\n",
       "Name: rating, Length: 6443, dtype: float64"
      ]
     },
     "execution_count": 95,
     "metadata": {},
     "output_type": "execute_result"
    }
   ],
   "source": [
    "user_high_ratings[user_high_ratings==10]"
   ]
  },
  {
   "cell_type": "markdown",
   "id": "477bbacd",
   "metadata": {},
   "source": [
    "There are 6443 users who gave 10 ratings on an average"
   ]
  },
  {
   "cell_type": "code",
   "execution_count": 96,
   "id": "a28ef14e",
   "metadata": {},
   "outputs": [
    {
     "data": {
      "text/plain": [
       "user\n",
       "236012    0.0\n",
       "252416    0.0\n",
       "236015    0.0\n",
       "238018    0.0\n",
       "20592     0.0\n",
       "         ... \n",
       "198846    0.0\n",
       "198838    0.0\n",
       "60129     0.0\n",
       "198835    0.0\n",
       "2         0.0\n",
       "Name: rating, Length: 27478, dtype: float64"
      ]
     },
     "execution_count": 96,
     "metadata": {},
     "output_type": "execute_result"
    }
   ],
   "source": [
    "user_high_ratings[user_high_ratings==0]"
   ]
  },
  {
   "cell_type": "markdown",
   "id": "15bfb51d",
   "metadata": {},
   "source": [
    "There are 27478 users whos behaviours were implicitely analysed and rated book as 0"
   ]
  },
  {
   "cell_type": "markdown",
   "id": "502338df",
   "metadata": {},
   "source": [
    "### Popular Books"
   ]
  },
  {
   "cell_type": "code",
   "execution_count": 97,
   "id": "b1abf0bb",
   "metadata": {},
   "outputs": [
    {
     "data": {
      "text/html": [
       "<div>\n",
       "<style scoped>\n",
       "    .dataframe tbody tr th:only-of-type {\n",
       "        vertical-align: middle;\n",
       "    }\n",
       "\n",
       "    .dataframe tbody tr th {\n",
       "        vertical-align: top;\n",
       "    }\n",
       "\n",
       "    .dataframe thead th {\n",
       "        text-align: right;\n",
       "    }\n",
       "</style>\n",
       "<table border=\"1\" class=\"dataframe\">\n",
       "  <thead>\n",
       "    <tr style=\"text-align: right;\">\n",
       "      <th></th>\n",
       "      <th>user</th>\n",
       "      <th>ISBN</th>\n",
       "      <th>rating</th>\n",
       "    </tr>\n",
       "  </thead>\n",
       "  <tbody>\n",
       "    <tr>\n",
       "      <th>0</th>\n",
       "      <td>276725</td>\n",
       "      <td>034545104X</td>\n",
       "      <td>0</td>\n",
       "    </tr>\n",
       "    <tr>\n",
       "      <th>1</th>\n",
       "      <td>276726</td>\n",
       "      <td>0155061224</td>\n",
       "      <td>5</td>\n",
       "    </tr>\n",
       "  </tbody>\n",
       "</table>\n",
       "</div>"
      ],
      "text/plain": [
       "     user        ISBN  rating\n",
       "0  276725  034545104X       0\n",
       "1  276726  0155061224       5"
      ]
     },
     "execution_count": 97,
     "metadata": {},
     "output_type": "execute_result"
    }
   ],
   "source": [
    "ratings.head(2)"
   ]
  },
  {
   "cell_type": "code",
   "execution_count": 98,
   "id": "f957ddfc",
   "metadata": {},
   "outputs": [
    {
     "data": {
      "text/html": [
       "<div>\n",
       "<style scoped>\n",
       "    .dataframe tbody tr th:only-of-type {\n",
       "        vertical-align: middle;\n",
       "    }\n",
       "\n",
       "    .dataframe tbody tr th {\n",
       "        vertical-align: top;\n",
       "    }\n",
       "\n",
       "    .dataframe thead th {\n",
       "        text-align: right;\n",
       "    }\n",
       "</style>\n",
       "<table border=\"1\" class=\"dataframe\">\n",
       "  <thead>\n",
       "    <tr style=\"text-align: right;\">\n",
       "      <th></th>\n",
       "      <th>ISBN</th>\n",
       "      <th>title</th>\n",
       "      <th>author</th>\n",
       "      <th>year</th>\n",
       "      <th>publisher</th>\n",
       "      <th>image</th>\n",
       "    </tr>\n",
       "  </thead>\n",
       "  <tbody>\n",
       "    <tr>\n",
       "      <th>0</th>\n",
       "      <td>0195153448</td>\n",
       "      <td>Classical Mythology</td>\n",
       "      <td>Mark P. O. Morford</td>\n",
       "      <td>2002</td>\n",
       "      <td>Oxford University Press</td>\n",
       "      <td>http://images.amazon.com/images/P/0195153448.0...</td>\n",
       "    </tr>\n",
       "    <tr>\n",
       "      <th>1</th>\n",
       "      <td>0002005018</td>\n",
       "      <td>Clara Callan</td>\n",
       "      <td>Richard Bruce Wright</td>\n",
       "      <td>2001</td>\n",
       "      <td>HarperFlamingo Canada</td>\n",
       "      <td>http://images.amazon.com/images/P/0002005018.0...</td>\n",
       "    </tr>\n",
       "  </tbody>\n",
       "</table>\n",
       "</div>"
      ],
      "text/plain": [
       "         ISBN                title                author  year  \\\n",
       "0  0195153448  Classical Mythology    Mark P. O. Morford  2002   \n",
       "1  0002005018         Clara Callan  Richard Bruce Wright  2001   \n",
       "\n",
       "                 publisher                                              image  \n",
       "0  Oxford University Press  http://images.amazon.com/images/P/0195153448.0...  \n",
       "1    HarperFlamingo Canada  http://images.amazon.com/images/P/0002005018.0...  "
      ]
     },
     "execution_count": 98,
     "metadata": {},
     "output_type": "execute_result"
    }
   ],
   "source": [
    "books.head(2)"
   ]
  },
  {
   "cell_type": "code",
   "execution_count": 99,
   "id": "34c60361",
   "metadata": {},
   "outputs": [],
   "source": [
    "ratings_with_name = ratings.merge(books, on=\"ISBN\")"
   ]
  },
  {
   "cell_type": "code",
   "execution_count": 100,
   "id": "fba04ecd",
   "metadata": {},
   "outputs": [
    {
     "data": {
      "text/html": [
       "<div>\n",
       "<style scoped>\n",
       "    .dataframe tbody tr th:only-of-type {\n",
       "        vertical-align: middle;\n",
       "    }\n",
       "\n",
       "    .dataframe tbody tr th {\n",
       "        vertical-align: top;\n",
       "    }\n",
       "\n",
       "    .dataframe thead th {\n",
       "        text-align: right;\n",
       "    }\n",
       "</style>\n",
       "<table border=\"1\" class=\"dataframe\">\n",
       "  <thead>\n",
       "    <tr style=\"text-align: right;\">\n",
       "      <th></th>\n",
       "      <th>title</th>\n",
       "      <th>num_ratings</th>\n",
       "    </tr>\n",
       "  </thead>\n",
       "  <tbody>\n",
       "    <tr>\n",
       "      <th>0</th>\n",
       "      <td>A Light in the Storm: The Civil War Diary of ...</td>\n",
       "      <td>4</td>\n",
       "    </tr>\n",
       "    <tr>\n",
       "      <th>1</th>\n",
       "      <td>Always Have Popsicles</td>\n",
       "      <td>1</td>\n",
       "    </tr>\n",
       "    <tr>\n",
       "      <th>2</th>\n",
       "      <td>Apple Magic (The Collector's series)</td>\n",
       "      <td>1</td>\n",
       "    </tr>\n",
       "  </tbody>\n",
       "</table>\n",
       "</div>"
      ],
      "text/plain": [
       "                                               title  num_ratings\n",
       "0   A Light in the Storm: The Civil War Diary of ...            4\n",
       "1                              Always Have Popsicles            1\n",
       "2               Apple Magic (The Collector's series)            1"
      ]
     },
     "execution_count": 100,
     "metadata": {},
     "output_type": "execute_result"
    }
   ],
   "source": [
    "num_ratings = ratings_with_name.groupby('title')[\"rating\"].count().reset_index()\n",
    "num_ratings.columns=['title', 'num_ratings']\n",
    "num_ratings.head(3)"
   ]
  },
  {
   "cell_type": "code",
   "execution_count": 101,
   "id": "69668d0b",
   "metadata": {},
   "outputs": [
    {
     "data": {
      "text/html": [
       "<div>\n",
       "<style scoped>\n",
       "    .dataframe tbody tr th:only-of-type {\n",
       "        vertical-align: middle;\n",
       "    }\n",
       "\n",
       "    .dataframe tbody tr th {\n",
       "        vertical-align: top;\n",
       "    }\n",
       "\n",
       "    .dataframe thead th {\n",
       "        text-align: right;\n",
       "    }\n",
       "</style>\n",
       "<table border=\"1\" class=\"dataframe\">\n",
       "  <thead>\n",
       "    <tr style=\"text-align: right;\">\n",
       "      <th></th>\n",
       "      <th>title</th>\n",
       "      <th>avg_ratings</th>\n",
       "    </tr>\n",
       "  </thead>\n",
       "  <tbody>\n",
       "    <tr>\n",
       "      <th>0</th>\n",
       "      <td>A Light in the Storm: The Civil War Diary of ...</td>\n",
       "      <td>2.25</td>\n",
       "    </tr>\n",
       "    <tr>\n",
       "      <th>1</th>\n",
       "      <td>Always Have Popsicles</td>\n",
       "      <td>0.00</td>\n",
       "    </tr>\n",
       "    <tr>\n",
       "      <th>2</th>\n",
       "      <td>Apple Magic (The Collector's series)</td>\n",
       "      <td>0.00</td>\n",
       "    </tr>\n",
       "  </tbody>\n",
       "</table>\n",
       "</div>"
      ],
      "text/plain": [
       "                                               title  avg_ratings\n",
       "0   A Light in the Storm: The Civil War Diary of ...         2.25\n",
       "1                              Always Have Popsicles         0.00\n",
       "2               Apple Magic (The Collector's series)         0.00"
      ]
     },
     "execution_count": 101,
     "metadata": {},
     "output_type": "execute_result"
    }
   ],
   "source": [
    "avg_ratings= ratings_with_name.groupby('title').mean()['rating'].reset_index()\n",
    "avg_ratings.columns=['title', 'avg_ratings']\n",
    "avg_ratings.head(3)"
   ]
  },
  {
   "cell_type": "code",
   "execution_count": 102,
   "id": "9aff0b91",
   "metadata": {},
   "outputs": [
    {
     "data": {
      "text/html": [
       "<div>\n",
       "<style scoped>\n",
       "    .dataframe tbody tr th:only-of-type {\n",
       "        vertical-align: middle;\n",
       "    }\n",
       "\n",
       "    .dataframe tbody tr th {\n",
       "        vertical-align: top;\n",
       "    }\n",
       "\n",
       "    .dataframe thead th {\n",
       "        text-align: right;\n",
       "    }\n",
       "</style>\n",
       "<table border=\"1\" class=\"dataframe\">\n",
       "  <thead>\n",
       "    <tr style=\"text-align: right;\">\n",
       "      <th></th>\n",
       "      <th>title</th>\n",
       "      <th>num_ratings</th>\n",
       "      <th>avg_ratings</th>\n",
       "    </tr>\n",
       "  </thead>\n",
       "  <tbody>\n",
       "    <tr>\n",
       "      <th>234951</th>\n",
       "      <td>Wild Animus</td>\n",
       "      <td>2502</td>\n",
       "      <td>1.019584</td>\n",
       "    </tr>\n",
       "    <tr>\n",
       "      <th>196326</th>\n",
       "      <td>The Lovely Bones: A Novel</td>\n",
       "      <td>1295</td>\n",
       "      <td>4.468726</td>\n",
       "    </tr>\n",
       "    <tr>\n",
       "      <th>183573</th>\n",
       "      <td>The Da Vinci Code</td>\n",
       "      <td>898</td>\n",
       "      <td>4.642539</td>\n",
       "    </tr>\n",
       "    <tr>\n",
       "      <th>5303</th>\n",
       "      <td>A Painted House</td>\n",
       "      <td>838</td>\n",
       "      <td>3.231504</td>\n",
       "    </tr>\n",
       "    <tr>\n",
       "      <th>199237</th>\n",
       "      <td>The Nanny Diaries: A Novel</td>\n",
       "      <td>828</td>\n",
       "      <td>3.530193</td>\n",
       "    </tr>\n",
       "    <tr>\n",
       "      <th>...</th>\n",
       "      <td>...</td>\n",
       "      <td>...</td>\n",
       "      <td>...</td>\n",
       "    </tr>\n",
       "    <tr>\n",
       "      <th>147559</th>\n",
       "      <td>Real Love: The Truth About Finding Uncondition...</td>\n",
       "      <td>1</td>\n",
       "      <td>0.000000</td>\n",
       "    </tr>\n",
       "    <tr>\n",
       "      <th>147558</th>\n",
       "      <td>Real Love: The Drawings for Sean</td>\n",
       "      <td>1</td>\n",
       "      <td>10.000000</td>\n",
       "    </tr>\n",
       "    <tr>\n",
       "      <th>147557</th>\n",
       "      <td>Real Love or Fake (Camfield Novel of Love, No 78)</td>\n",
       "      <td>1</td>\n",
       "      <td>5.000000</td>\n",
       "    </tr>\n",
       "    <tr>\n",
       "      <th>63664</th>\n",
       "      <td>Fabulous Food for Family and Friends: Healthy ...</td>\n",
       "      <td>1</td>\n",
       "      <td>0.000000</td>\n",
       "    </tr>\n",
       "    <tr>\n",
       "      <th>168799</th>\n",
       "      <td>Suburban backlash: The battle for the world's ...</td>\n",
       "      <td>1</td>\n",
       "      <td>0.000000</td>\n",
       "    </tr>\n",
       "  </tbody>\n",
       "</table>\n",
       "<p>241071 rows × 3 columns</p>\n",
       "</div>"
      ],
      "text/plain": [
       "                                                    title  num_ratings  \\\n",
       "234951                                        Wild Animus         2502   \n",
       "196326                          The Lovely Bones: A Novel         1295   \n",
       "183573                                  The Da Vinci Code          898   \n",
       "5303                                      A Painted House          838   \n",
       "199237                         The Nanny Diaries: A Novel          828   \n",
       "...                                                   ...          ...   \n",
       "147559  Real Love: The Truth About Finding Uncondition...            1   \n",
       "147558                   Real Love: The Drawings for Sean            1   \n",
       "147557  Real Love or Fake (Camfield Novel of Love, No 78)            1   \n",
       "63664   Fabulous Food for Family and Friends: Healthy ...            1   \n",
       "168799  Suburban backlash: The battle for the world's ...            1   \n",
       "\n",
       "        avg_ratings  \n",
       "234951     1.019584  \n",
       "196326     4.468726  \n",
       "183573     4.642539  \n",
       "5303       3.231504  \n",
       "199237     3.530193  \n",
       "...             ...  \n",
       "147559     0.000000  \n",
       "147558    10.000000  \n",
       "147557     5.000000  \n",
       "63664      0.000000  \n",
       "168799     0.000000  \n",
       "\n",
       "[241071 rows x 3 columns]"
      ]
     },
     "execution_count": 102,
     "metadata": {},
     "output_type": "execute_result"
    }
   ],
   "source": [
    "popular_books = num_ratings.merge(avg_ratings, on=\"title\")\n",
    "popular_books.sort_values('num_ratings', ascending=False)"
   ]
  },
  {
   "cell_type": "code",
   "execution_count": 103,
   "id": "2fe3bb2b",
   "metadata": {},
   "outputs": [],
   "source": [
    "popular_books=popular_books[popular_books[\"num_ratings\"]>=100].sort_values('avg_ratings', ascending=False).head(100)"
   ]
  },
  {
   "cell_type": "code",
   "execution_count": 104,
   "id": "44c522cd",
   "metadata": {},
   "outputs": [
    {
     "data": {
      "text/plain": [
       "Index(['title', 'num_ratings', 'avg_ratings', 'ISBN', 'author', 'year',\n",
       "       'publisher', 'image'],\n",
       "      dtype='object')"
      ]
     },
     "execution_count": 104,
     "metadata": {},
     "output_type": "execute_result"
    }
   ],
   "source": [
    "popular_books=popular_books.merge(books, on='title', how='left').drop_duplicates(\"title\")\n",
    "popular_books.columns"
   ]
  },
  {
   "cell_type": "code",
   "execution_count": 105,
   "id": "bd6c619e",
   "metadata": {},
   "outputs": [],
   "source": [
    "popular_books['avg_ratings']=popular_books['avg_ratings'].apply(lambda x: np.round(x,2))"
   ]
  },
  {
   "cell_type": "code",
   "execution_count": 106,
   "id": "3aecd4c2",
   "metadata": {},
   "outputs": [],
   "source": [
    "popular_books=popular_books.drop(index=[40,166])"
   ]
  },
  {
   "cell_type": "code",
   "execution_count": 107,
   "id": "77b80c9d",
   "metadata": {},
   "outputs": [],
   "source": [
    "popular_books=popular_books.head(50)"
   ]
  },
  {
   "cell_type": "code",
   "execution_count": 108,
   "id": "be6a7176",
   "metadata": {},
   "outputs": [
    {
     "data": {
      "text/plain": [
       "'http://images.amazon.com/images/P/059035342X.01.MZZZZZZZ.jpg'"
      ]
     },
     "execution_count": 108,
     "metadata": {},
     "output_type": "execute_result"
    }
   ],
   "source": [
    "popular_books[\"image\"][43]"
   ]
  },
  {
   "cell_type": "markdown",
   "id": "44380f9e",
   "metadata": {},
   "source": [
    "# Approach"
   ]
  },
  {
   "cell_type": "code",
   "execution_count": 109,
   "id": "90f7c843",
   "metadata": {},
   "outputs": [
    {
     "data": {
      "text/plain": [
       "(271360, 6)"
      ]
     },
     "execution_count": 109,
     "metadata": {},
     "output_type": "execute_result"
    }
   ],
   "source": [
    "books.shape"
   ]
  },
  {
   "cell_type": "code",
   "execution_count": 110,
   "id": "b7120c6b",
   "metadata": {},
   "outputs": [
    {
     "data": {
      "text/plain": [
       "(278858, 3)"
      ]
     },
     "execution_count": 110,
     "metadata": {},
     "output_type": "execute_result"
    }
   ],
   "source": [
    "users.shape"
   ]
  },
  {
   "cell_type": "code",
   "execution_count": 111,
   "id": "8dcc3ad5",
   "metadata": {},
   "outputs": [
    {
     "data": {
      "text/plain": [
       "(1149780, 3)"
      ]
     },
     "execution_count": 111,
     "metadata": {},
     "output_type": "execute_result"
    }
   ],
   "source": [
    "ratings.shape"
   ]
  },
  {
   "cell_type": "markdown",
   "id": "c2b720dc",
   "metadata": {},
   "source": [
    "So we have 271360 books and 278858 user on the website. These many users have gave 1149780 ratings in total.\n",
    "\n",
    "\n",
    "#### Another question arises that should we run the model on whole dataset? \n",
    "-Important point to consider is that if you're using a collaborative filtering model, it's important to have a good amount of user-item interactions to find the similar users, otherwise the recommendations may not be accurate. In that case, it may be better to use a smaller subset of the data that has more interactions. \n",
    "\n",
    "- So what if we have some users who never give any rating or gave very few. Or what about books which recieved very less number of ratings? Ofcourse, these users and books will add significantly low intellegence to our model. So we will fiter out users and books. The criteria would be \"users should give more than 100 number of ratings and books should receive more than 50 number of ratings\"\n",
    "\n",
    "#### Approach\n",
    "\n",
    "With our user based collaborative recommender, if a user A and B have given ratings to the same book, let's say Book1 but user A also gave rating to other book let's say Book2 then our model will recommend Book2 to user B as well. Our model will be developed around this idea. So this will lead us to matrix factorisation where user IDs will be the columns, book names will be the index and ratings will be the values in the pivot table. "
   ]
  },
  {
   "cell_type": "code",
   "execution_count": 112,
   "id": "1ddcda78",
   "metadata": {},
   "outputs": [],
   "source": [
    "# filtering users who gave 100 or more ratings\n",
    "\n",
    "ratings_100=ratings['user'].value_counts()>=100"
   ]
  },
  {
   "cell_type": "code",
   "execution_count": 113,
   "id": "57defb6e",
   "metadata": {},
   "outputs": [
    {
     "data": {
      "text/plain": [
       "11676     True\n",
       "198711    True\n",
       "153662    True\n",
       "98391     True\n",
       "35859     True\n",
       "          ... \n",
       "219951    True\n",
       "71612     True\n",
       "28537     True\n",
       "91026     True\n",
       "160406    True\n",
       "Name: user, Length: 1847, dtype: bool"
      ]
     },
     "execution_count": 113,
     "metadata": {},
     "output_type": "execute_result"
    }
   ],
   "source": [
    "ratings_100[ratings_100]"
   ]
  },
  {
   "cell_type": "markdown",
   "id": "bc19e6b8",
   "metadata": {},
   "source": [
    "So there are 1825 users who gave 100 or more ratings on the books so they are considered as active readers and members of the website"
   ]
  },
  {
   "cell_type": "code",
   "execution_count": 114,
   "id": "fd74724b",
   "metadata": {},
   "outputs": [
    {
     "data": {
      "text/plain": [
       "Int64Index([ 11676, 198711, 153662,  98391,  35859, 212898, 278418,  76352,\n",
       "            110973, 235105,\n",
       "            ...\n",
       "             62239, 160407, 160416, 116866, 160410, 219951,  71612,  28537,\n",
       "             91026, 160406],\n",
       "           dtype='int64', length=1847)"
      ]
     },
     "execution_count": 114,
     "metadata": {},
     "output_type": "execute_result"
    }
   ],
   "source": [
    "# finding user IDs for users who gave 100 or more ratings\n",
    "\n",
    "index_100 = ratings_100[ratings_100].index\n",
    "index_100"
   ]
  },
  {
   "cell_type": "code",
   "execution_count": 115,
   "id": "d980a962",
   "metadata": {},
   "outputs": [
    {
     "data": {
      "text/html": [
       "<div>\n",
       "<style scoped>\n",
       "    .dataframe tbody tr th:only-of-type {\n",
       "        vertical-align: middle;\n",
       "    }\n",
       "\n",
       "    .dataframe tbody tr th {\n",
       "        vertical-align: top;\n",
       "    }\n",
       "\n",
       "    .dataframe thead th {\n",
       "        text-align: right;\n",
       "    }\n",
       "</style>\n",
       "<table border=\"1\" class=\"dataframe\">\n",
       "  <thead>\n",
       "    <tr style=\"text-align: right;\">\n",
       "      <th></th>\n",
       "      <th>user</th>\n",
       "      <th>ISBN</th>\n",
       "      <th>rating</th>\n",
       "    </tr>\n",
       "  </thead>\n",
       "  <tbody>\n",
       "    <tr>\n",
       "      <th>412</th>\n",
       "      <td>276925</td>\n",
       "      <td>0006511929</td>\n",
       "      <td>0</td>\n",
       "    </tr>\n",
       "    <tr>\n",
       "      <th>413</th>\n",
       "      <td>276925</td>\n",
       "      <td>002542730X</td>\n",
       "      <td>10</td>\n",
       "    </tr>\n",
       "    <tr>\n",
       "      <th>414</th>\n",
       "      <td>276925</td>\n",
       "      <td>0060520507</td>\n",
       "      <td>0</td>\n",
       "    </tr>\n",
       "  </tbody>\n",
       "</table>\n",
       "</div>"
      ],
      "text/plain": [
       "       user        ISBN  rating\n",
       "412  276925  0006511929       0\n",
       "413  276925  002542730X      10\n",
       "414  276925  0060520507       0"
      ]
     },
     "execution_count": 115,
     "metadata": {},
     "output_type": "execute_result"
    }
   ],
   "source": [
    "# extracting ratings given by active users\n",
    "\n",
    "ratings=ratings[ratings['user'].isin(index_100)]\n",
    "ratings.head(3)"
   ]
  },
  {
   "cell_type": "markdown",
   "id": "1d2dd6a8",
   "metadata": {},
   "source": [
    "The shape of the above dataframe suggests that our active 1825 user alone gave 656605 ratings on the different books"
   ]
  },
  {
   "cell_type": "markdown",
   "id": "ea0e39ac",
   "metadata": {},
   "source": [
    "Our next goal is to create dataframe which includes \n",
    "- users who gave 100 or more ratings to the books\n",
    "- books which got 50 or more ratings"
   ]
  },
  {
   "cell_type": "markdown",
   "id": "ea8986cd",
   "metadata": {},
   "source": [
    "### Merge Operations"
   ]
  },
  {
   "cell_type": "code",
   "execution_count": 116,
   "id": "65b0df75",
   "metadata": {},
   "outputs": [],
   "source": [
    "ratings_merged=ratings.merge(books, on='ISBN')"
   ]
  },
  {
   "cell_type": "code",
   "execution_count": 117,
   "id": "f953f7d8",
   "metadata": {},
   "outputs": [
    {
     "data": {
      "text/html": [
       "<div>\n",
       "<style scoped>\n",
       "    .dataframe tbody tr th:only-of-type {\n",
       "        vertical-align: middle;\n",
       "    }\n",
       "\n",
       "    .dataframe tbody tr th {\n",
       "        vertical-align: top;\n",
       "    }\n",
       "\n",
       "    .dataframe thead th {\n",
       "        text-align: right;\n",
       "    }\n",
       "</style>\n",
       "<table border=\"1\" class=\"dataframe\">\n",
       "  <thead>\n",
       "    <tr style=\"text-align: right;\">\n",
       "      <th></th>\n",
       "      <th>user</th>\n",
       "      <th>ISBN</th>\n",
       "      <th>rating</th>\n",
       "      <th>title</th>\n",
       "      <th>author</th>\n",
       "      <th>year</th>\n",
       "      <th>publisher</th>\n",
       "      <th>image</th>\n",
       "    </tr>\n",
       "  </thead>\n",
       "  <tbody>\n",
       "    <tr>\n",
       "      <th>0</th>\n",
       "      <td>276925</td>\n",
       "      <td>002542730X</td>\n",
       "      <td>10</td>\n",
       "      <td>Politically Correct Bedtime Stories: Modern Ta...</td>\n",
       "      <td>James Finn Garner</td>\n",
       "      <td>1994</td>\n",
       "      <td>John Wiley &amp;amp; Sons Inc</td>\n",
       "      <td>http://images.amazon.com/images/P/002542730X.0...</td>\n",
       "    </tr>\n",
       "    <tr>\n",
       "      <th>1</th>\n",
       "      <td>277427</td>\n",
       "      <td>002542730X</td>\n",
       "      <td>10</td>\n",
       "      <td>Politically Correct Bedtime Stories: Modern Ta...</td>\n",
       "      <td>James Finn Garner</td>\n",
       "      <td>1994</td>\n",
       "      <td>John Wiley &amp;amp; Sons Inc</td>\n",
       "      <td>http://images.amazon.com/images/P/002542730X.0...</td>\n",
       "    </tr>\n",
       "    <tr>\n",
       "      <th>2</th>\n",
       "      <td>3363</td>\n",
       "      <td>002542730X</td>\n",
       "      <td>0</td>\n",
       "      <td>Politically Correct Bedtime Stories: Modern Ta...</td>\n",
       "      <td>James Finn Garner</td>\n",
       "      <td>1994</td>\n",
       "      <td>John Wiley &amp;amp; Sons Inc</td>\n",
       "      <td>http://images.amazon.com/images/P/002542730X.0...</td>\n",
       "    </tr>\n",
       "  </tbody>\n",
       "</table>\n",
       "</div>"
      ],
      "text/plain": [
       "     user        ISBN  rating  \\\n",
       "0  276925  002542730X      10   \n",
       "1  277427  002542730X      10   \n",
       "2    3363  002542730X       0   \n",
       "\n",
       "                                               title             author  year  \\\n",
       "0  Politically Correct Bedtime Stories: Modern Ta...  James Finn Garner  1994   \n",
       "1  Politically Correct Bedtime Stories: Modern Ta...  James Finn Garner  1994   \n",
       "2  Politically Correct Bedtime Stories: Modern Ta...  James Finn Garner  1994   \n",
       "\n",
       "                   publisher  \\\n",
       "0  John Wiley &amp; Sons Inc   \n",
       "1  John Wiley &amp; Sons Inc   \n",
       "2  John Wiley &amp; Sons Inc   \n",
       "\n",
       "                                               image  \n",
       "0  http://images.amazon.com/images/P/002542730X.0...  \n",
       "1  http://images.amazon.com/images/P/002542730X.0...  \n",
       "2  http://images.amazon.com/images/P/002542730X.0...  "
      ]
     },
     "execution_count": 117,
     "metadata": {},
     "output_type": "execute_result"
    }
   ],
   "source": [
    "ratings_merged.head(3)"
   ]
  },
  {
   "cell_type": "code",
   "execution_count": 118,
   "id": "815902f4",
   "metadata": {},
   "outputs": [
    {
     "data": {
      "text/html": [
       "<div>\n",
       "<style scoped>\n",
       "    .dataframe tbody tr th:only-of-type {\n",
       "        vertical-align: middle;\n",
       "    }\n",
       "\n",
       "    .dataframe tbody tr th {\n",
       "        vertical-align: top;\n",
       "    }\n",
       "\n",
       "    .dataframe thead th {\n",
       "        text-align: right;\n",
       "    }\n",
       "</style>\n",
       "<table border=\"1\" class=\"dataframe\">\n",
       "  <thead>\n",
       "    <tr style=\"text-align: right;\">\n",
       "      <th></th>\n",
       "      <th>title</th>\n",
       "      <th>rating</th>\n",
       "    </tr>\n",
       "  </thead>\n",
       "  <tbody>\n",
       "    <tr>\n",
       "      <th>0</th>\n",
       "      <td>A Light in the Storm: The Civil War Diary of ...</td>\n",
       "      <td>3</td>\n",
       "    </tr>\n",
       "    <tr>\n",
       "      <th>1</th>\n",
       "      <td>Always Have Popsicles</td>\n",
       "      <td>1</td>\n",
       "    </tr>\n",
       "    <tr>\n",
       "      <th>2</th>\n",
       "      <td>Apple Magic (The Collector's series)</td>\n",
       "      <td>1</td>\n",
       "    </tr>\n",
       "  </tbody>\n",
       "</table>\n",
       "</div>"
      ],
      "text/plain": [
       "                                               title  rating\n",
       "0   A Light in the Storm: The Civil War Diary of ...       3\n",
       "1                              Always Have Popsicles       1\n",
       "2               Apple Magic (The Collector's series)       1"
      ]
     },
     "execution_count": 118,
     "metadata": {},
     "output_type": "execute_result"
    }
   ],
   "source": [
    "books_rating_qty= ratings_merged.groupby('title')['rating'].count().reset_index()\n",
    "books_rating_qty.head(3)"
   ]
  },
  {
   "cell_type": "markdown",
   "id": "c44eb556",
   "metadata": {},
   "source": [
    "But being careful here, the second column is not actually a rating but it denotes the number of ratings that a particular book recieved. So lets change the column name here."
   ]
  },
  {
   "cell_type": "code",
   "execution_count": 119,
   "id": "cedf9ab8",
   "metadata": {},
   "outputs": [],
   "source": [
    "books_rating_qty.columns=['title', 'num_of_ratings']"
   ]
  },
  {
   "cell_type": "code",
   "execution_count": 120,
   "id": "c0f1f6bf",
   "metadata": {},
   "outputs": [
    {
     "data": {
      "text/html": [
       "<div>\n",
       "<style scoped>\n",
       "    .dataframe tbody tr th:only-of-type {\n",
       "        vertical-align: middle;\n",
       "    }\n",
       "\n",
       "    .dataframe tbody tr th {\n",
       "        vertical-align: top;\n",
       "    }\n",
       "\n",
       "    .dataframe thead th {\n",
       "        text-align: right;\n",
       "    }\n",
       "</style>\n",
       "<table border=\"1\" class=\"dataframe\">\n",
       "  <thead>\n",
       "    <tr style=\"text-align: right;\">\n",
       "      <th></th>\n",
       "      <th>title</th>\n",
       "      <th>num_of_ratings</th>\n",
       "    </tr>\n",
       "  </thead>\n",
       "  <tbody>\n",
       "    <tr>\n",
       "      <th>0</th>\n",
       "      <td>A Light in the Storm: The Civil War Diary of ...</td>\n",
       "      <td>3</td>\n",
       "    </tr>\n",
       "    <tr>\n",
       "      <th>1</th>\n",
       "      <td>Always Have Popsicles</td>\n",
       "      <td>1</td>\n",
       "    </tr>\n",
       "    <tr>\n",
       "      <th>2</th>\n",
       "      <td>Apple Magic (The Collector's series)</td>\n",
       "      <td>1</td>\n",
       "    </tr>\n",
       "  </tbody>\n",
       "</table>\n",
       "</div>"
      ],
      "text/plain": [
       "                                               title  num_of_ratings\n",
       "0   A Light in the Storm: The Civil War Diary of ...               3\n",
       "1                              Always Have Popsicles               1\n",
       "2               Apple Magic (The Collector's series)               1"
      ]
     },
     "execution_count": 120,
     "metadata": {},
     "output_type": "execute_result"
    }
   ],
   "source": [
    "books_rating_qty.head(3)"
   ]
  },
  {
   "cell_type": "code",
   "execution_count": 121,
   "id": "2727304f",
   "metadata": {},
   "outputs": [],
   "source": [
    "rating_with_books= ratings_merged.merge(books_rating_qty, on='title')"
   ]
  },
  {
   "cell_type": "code",
   "execution_count": 122,
   "id": "aec27781",
   "metadata": {},
   "outputs": [],
   "source": [
    "final_books= rating_with_books[rating_with_books['num_of_ratings']>=50]"
   ]
  },
  {
   "cell_type": "code",
   "execution_count": 123,
   "id": "d0f82151",
   "metadata": {},
   "outputs": [
    {
     "data": {
      "text/plain": [
       "(100811, 9)"
      ]
     },
     "execution_count": 123,
     "metadata": {},
     "output_type": "execute_result"
    }
   ],
   "source": [
    "final_books.shape"
   ]
  },
  {
   "cell_type": "markdown",
   "id": "1337a50b",
   "metadata": {},
   "source": [
    "Here, we want to avoid any duplicates for same user giving multiple ratings to the same book. "
   ]
  },
  {
   "cell_type": "code",
   "execution_count": 124,
   "id": "f34aa785",
   "metadata": {},
   "outputs": [],
   "source": [
    "final_books=final_books.drop_duplicates(subset=['user', 'title'])"
   ]
  },
  {
   "cell_type": "code",
   "execution_count": 125,
   "id": "91f2cfa5",
   "metadata": {},
   "outputs": [
    {
     "data": {
      "text/plain": [
       "(98339, 9)"
      ]
     },
     "execution_count": 125,
     "metadata": {},
     "output_type": "execute_result"
    }
   ],
   "source": [
    "final_books.shape"
   ]
  },
  {
   "cell_type": "markdown",
   "id": "a8f2d4f2",
   "metadata": {},
   "source": [
    "So there were 2003 rows where same users gave ratings to same books"
   ]
  },
  {
   "cell_type": "markdown",
   "id": "8bac1b79",
   "metadata": {},
   "source": [
    "### Matrix Factorisation"
   ]
  },
  {
   "cell_type": "code",
   "execution_count": 126,
   "id": "328353ca",
   "metadata": {},
   "outputs": [],
   "source": [
    "book_pivot = final_books.pivot_table(columns='user', index='title', values='rating')"
   ]
  },
  {
   "cell_type": "markdown",
   "id": "7cdd111b",
   "metadata": {},
   "source": [
    "We are almost there! We see there are lot of missing values in the pivot table. Pivot operation automatically inserted NaN values where user did not give rating to the book. We will replace these missing values with 0. It will result into a pivot table containing lot of zeros"
   ]
  },
  {
   "cell_type": "code",
   "execution_count": 127,
   "id": "0fc845ab",
   "metadata": {},
   "outputs": [],
   "source": [
    "book_pivot.fillna(0, inplace=True)"
   ]
  },
  {
   "cell_type": "markdown",
   "id": "bdfe14f7",
   "metadata": {},
   "source": [
    "# Model Creation"
   ]
  },
  {
   "cell_type": "markdown",
   "id": "d80a3f2d",
   "metadata": {},
   "source": [
    "#### For this model, we will use Cosine Similarity matrix.\n",
    "\n",
    "Cosine similarity is a measure of similarity between two non-zero vectors of an inner product space that measures the cosine of the angle between them.\n",
    "\n",
    "The cosine of 0° is 1, and it is less than 1 for any angle in the interval (0,π] radians. It is thus a judgment of orientation and not magnitude: two vectors with the same orientation have a cosine similarity of 1, two vectors at 90° have a similarity of 0, and two vectors diametrically opposed have a similarity of -1.\n",
    "\n",
    "One advantage of using cosine similarity in a recommendation system is that it is not affected by the magnitude of the vectors, only their orientation. This means that it can handle sparse data well, where some entries in the vectors may be zero. It also means that it can handle negative values, which can be useful for certain types of data such as word count data. Additionally, cosine similarity is computationally efficient and easy to implement, making it a popular choice for use in large-scale recommendation systems."
   ]
  },
  {
   "cell_type": "code",
   "execution_count": 128,
   "id": "dc4db24c",
   "metadata": {},
   "outputs": [],
   "source": [
    "from sklearn.metrics.pairwise import cosine_similarity"
   ]
  },
  {
   "cell_type": "code",
   "execution_count": 129,
   "id": "30d618d8",
   "metadata": {},
   "outputs": [],
   "source": [
    "similarity_score= cosine_similarity(book_pivot)"
   ]
  },
  {
   "cell_type": "code",
   "execution_count": 130,
   "id": "8bbb1e8d",
   "metadata": {},
   "outputs": [],
   "source": [
    "def recommend_books(book_name):\n",
    "    '''function returns the name of the recommended books'''\n",
    "    book_index= np.where(book_pivot.index==book_name)[0][0]\n",
    "    suggested_items= sorted(list(enumerate(similarity_score[book_index])), key=lambda x:x[1], reverse=True)[1:6]\n",
    "    \n",
    "    data = []\n",
    "    for i in suggested_items:\n",
    "        item =[]\n",
    "        temp = books[books[\"title\"]==book_pivot.index[i[0]]]\n",
    "        item.extend(temp.drop_duplicates(\"title\")['title'].values)\n",
    "        item.extend(temp.drop_duplicates(\"title\")['author'].values)\n",
    "        item.extend(temp.drop_duplicates(\"title\")['image'].values)\n",
    "        \n",
    "        data.append(item)\n",
    "        \n",
    "    return data"
   ]
  },
  {
   "cell_type": "code",
   "execution_count": 131,
   "id": "0e47c115",
   "metadata": {},
   "outputs": [
    {
     "data": {
      "text/plain": [
       "[['The Two Towers (The Lord of the Rings, Part 2)',\n",
       "  'J.R.R. TOLKIEN',\n",
       "  'http://images.amazon.com/images/P/0345339711.01.MZZZZZZZ.jpg'],\n",
       " ['The Return of the King (The Lord of the Rings, Part 3)',\n",
       "  'J.R.R. TOLKIEN',\n",
       "  'http://images.amazon.com/images/P/0345339738.01.MZZZZZZZ.jpg'],\n",
       " ['Harry Potter and the Prisoner of Azkaban (Book 3)',\n",
       "  'J. K. Rowling',\n",
       "  'http://images.amazon.com/images/P/0439136350.01.MZZZZZZZ.jpg'],\n",
       " ['The Hobbit : The Enchanting Prelude to The Lord of the Rings',\n",
       "  'J.R.R. TOLKIEN',\n",
       "  'http://images.amazon.com/images/P/0345339681.01.MZZZZZZZ.jpg'],\n",
       " ['Harry Potter and the Goblet of Fire (Book 4)',\n",
       "  'J. K. Rowling',\n",
       "  'http://images.amazon.com/images/P/0439139597.01.MZZZZZZZ.jpg']]"
      ]
     },
     "execution_count": 131,
     "metadata": {},
     "output_type": "execute_result"
    }
   ],
   "source": [
    "recommend_books('The Fellowship of the Ring (The Lord of the Rings, Part 1)')"
   ]
  },
  {
   "cell_type": "markdown",
   "id": "78158aa9",
   "metadata": {},
   "source": [
    "# Deployment"
   ]
  },
  {
   "cell_type": "code",
   "execution_count": 132,
   "id": "8b89b9c9",
   "metadata": {},
   "outputs": [],
   "source": [
    "import pickle"
   ]
  },
  {
   "cell_type": "code",
   "execution_count": 133,
   "id": "191bb747",
   "metadata": {},
   "outputs": [],
   "source": [
    "pickle.dump(popular_books, open(\"popular_books.pkl\", \"wb\"))"
   ]
  },
  {
   "cell_type": "code",
   "execution_count": 134,
   "id": "c08057f1",
   "metadata": {},
   "outputs": [],
   "source": [
    "pickle.dump(book_pivot, open(\"book_pivot.pkl\", \"wb\"))\n",
    "pickle.dump(books, open(\"books.pkl\", \"wb\"))\n",
    "pickle.dump(similarity_score, open(\"similarity_score.pkl\", \"wb\"))"
   ]
  },
  {
   "cell_type": "markdown",
   "id": "306b3c33",
   "metadata": {},
   "source": [
    "# "
   ]
  }
 ],
 "metadata": {
  "kernelspec": {
   "display_name": "Python 3.9.7 ('base')",
   "language": "python",
   "name": "python3"
  },
  "language_info": {
   "codemirror_mode": {
    "name": "ipython",
    "version": 3
   },
   "file_extension": ".py",
   "mimetype": "text/x-python",
   "name": "python",
   "nbconvert_exporter": "python",
   "pygments_lexer": "ipython3",
   "version": "3.11.3"
  },
  "vscode": {
   "interpreter": {
    "hash": "a830059a9c722dc07a2d3b6438b71a1ebbefa5368f89a311b0b30f271271817c"
   }
  }
 },
 "nbformat": 4,
 "nbformat_minor": 5
}
